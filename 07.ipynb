{
 "cells": [
  {
   "cell_type": "markdown",
   "metadata": {},
   "source": [
    "# 07 순차 탐색"
   ]
  },
  {
   "cell_type": "markdown",
   "metadata": {},
   "source": [
    "* 순차 탐색(sequential search) : 리스트 원소를 하나씩 순차적으로 비교하면서 탐색\n",
    "* 순차 탐색은 경우에 따라 계산 횟수가 다르다. 따라서 복잡도는 최선의 경우, 평균의 경우, 최악의 경우로 나뉘며, 주로 최악의 경우를 통해 보수적인 관점에서 분석한다."
   ]
  },
  {
   "cell_type": "markdown",
   "metadata": {},
   "source": [
    "### 연습문제 7-1\n",
    "리스트에 찾는 값이 여러 개 존재하면 그 모든 위치를 리스트로 돌려주는 알고리즘을 만들어라. 찾는 값이 없다면 빈 리스트를 반환하라."
   ]
  },
  {
   "cell_type": "code",
   "execution_count": 1,
   "metadata": {},
   "outputs": [
    {
     "data": {
      "text/plain": [
       "[0, 8]"
      ]
     },
     "execution_count": 1,
     "metadata": {},
     "output_type": "execute_result"
    }
   ],
   "source": [
    "def find_list(list, n):\n",
    "    res = []\n",
    "    for e, i in enumerate(list):\n",
    "        if n == i:\n",
    "            res.append(e)\n",
    "    return res\n",
    "\n",
    "find_list([17, 92, 18, 33, 58, 7, 33, 42, 17], 17)"
   ]
  },
  {
   "cell_type": "markdown",
   "metadata": {},
   "source": [
    "### 연습문제 7-2\n",
    "연습문제 7-1의 계산 복잡도는 무엇인가?\n",
    "  \n",
    "* 무조건 리스트 전체를 탐색해야 하므로, O(n)이다."
   ]
  },
  {
   "cell_type": "markdown",
   "metadata": {},
   "source": [
    "### 연습문제 7-3\n",
    "다음과 같은 리스트가 주어졌을 때, 학생 번호를 입력하면 학생 번호에 해당하는 이름을 순차 탐색으로 찾아 돌려주는 함수를 만들어라. 해당 학생이 없으면 ?를 반환하라.\n",
    "* stu_no = [39, 14, 67, 105]\n",
    "* stu_name = [\"Justin\", \"John\", \"Mike\", \"Summer\"]"
   ]
  },
  {
   "cell_type": "code",
   "execution_count": 5,
   "metadata": {},
   "outputs": [
    {
     "name": "stdout",
     "output_type": "stream",
     "text": [
      "Justin\n",
      "Mike\n",
      "Summer\n",
      "John\n",
      "?\n"
     ]
    }
   ],
   "source": [
    "def find_stu(n, stu_no, stu_name):\n",
    "    for e, i in enumerate(stu_no):\n",
    "        if i == n:\n",
    "            return stu_name[e]\n",
    "    return '?'\n",
    "\n",
    "\n",
    "stu_no = [39, 14, 67, 105]\n",
    "stu_name = [\"Justin\", \"John\", \"Mike\", \"Summer\"]\n",
    "print(find_stu(39, stu_no, stu_name))\n",
    "print(find_stu(67, stu_no, stu_name))\n",
    "print(find_stu(105, stu_no, stu_name))\n",
    "print(find_stu(14, stu_no, stu_name))\n",
    "print(find_stu(114, stu_no, stu_name))"
   ]
  }
 ],
 "metadata": {
  "kernelspec": {
   "display_name": "Python 3.7.7 64-bit",
   "language": "python",
   "name": "python3"
  },
  "language_info": {
   "codemirror_mode": {
    "name": "ipython",
    "version": 3
   },
   "file_extension": ".py",
   "mimetype": "text/x-python",
   "name": "python",
   "nbconvert_exporter": "python",
   "pygments_lexer": "ipython3",
   "version": "3.7.7"
  },
  "orig_nbformat": 4,
  "vscode": {
   "interpreter": {
    "hash": "d49c3f6d6dd49f9272b571d9fad348ab55b8c6c3f691520d74ed0af1f69c3dd8"
   }
  }
 },
 "nbformat": 4,
 "nbformat_minor": 2
}
