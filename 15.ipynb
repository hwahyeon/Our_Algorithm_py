{
 "cells": [
  {
   "cell_type": "markdown",
   "metadata": {},
   "source": [
    "# 15 친구의 친구 찾기"
   ]
  },
  {
   "cell_type": "markdown",
   "metadata": {},
   "source": [
    "### 파이썬으로 그래프 표현\n",
    "* 파이썬에선 그래프를 자료구조하는 방법엔 여러 가지가 있다. 리스트와 딕셔너리를 사용해서 만들 수도 있다."
   ]
  },
  {
   "cell_type": "markdown",
   "metadata": {},
   "source": [
    "### 친구 그래프 용어 정리\n",
    "* 친구(일촌) : 직접 아는 사이. A가 B의 친구면, B도 A의 친구다.\n",
    "* 모든 친구(친척) : 직간접으로 아는 모든 사람을 말한다. 자기 자신도 포함한다. A와 B가 친구고 B와 C가 친구고, C와 D가 친구면 A에게는 A,B,C,D 전부가 '모든 친구'가 된다.\n",
    "* 친밀도(촌수) : 어떤 두 사람이 직간접으로 아는 사이일 때, 두 명이 서로 몇 단게를 거쳐 아는지 나타내는 숫자이다. 자기 자신의 친밀도는 0이다."
   ]
  },
  {
   "cell_type": "markdown",
   "metadata": {},
   "source": [
    "* 그래프에서 꼭짓점(vertex)를 Key로 하는 딕셔너리를 만든다.\n",
    "* 값(value)를 꼭짓점에 연결된 다른 꼭짓점의 리스트로 한다.\n",
    "* 예를 들어 Summer의 친구 John, Justin, Mike는 'Summer' : ['John', 'Justin', 'Mike']로 나타낼 수 있다."
   ]
  },
  {
   "cell_type": "markdown",
   "metadata": {},
   "source": [
    "### 모든 친구 찾기 알고리즘\n",
    "* 1. 처리할 사람의 큐를 만든다.\n",
    "* 2. 큐에 추가한 사람을 저장할 집합을 만든다.\n",
    "* 3. 검색의 출발점이 될 사람을 큐와 집합에 추가한다.\n",
    "* 4. 큐에 사람이 남아 있다면 큐에서 처리할 사람을 꺼낸다.\n",
    "* 5. 꺼낸 사람 출력\n",
    "* 6. 꺼낸 사람의 친구들 중 아직 큐에 추가된 적이 없는 사람을 골라 큐와 집합에 추가한다.\n",
    "* 7. 큐에 처리할 사람이 있다면, 4번부터 반복."
   ]
  },
  {
   "cell_type": "code",
   "execution_count": 1,
   "metadata": {},
   "outputs": [
    {
     "name": "stdout",
     "output_type": "stream",
     "text": [
      "Summer\n",
      "John\n",
      "Justin\n",
      "Mike\n",
      "May\n",
      "Kim\n",
      "\n",
      "Jerry\n",
      "Tom\n"
     ]
    }
   ],
   "source": [
    "# 입력: 친구 관계 그래프 g, 모든 친구를 찾을 자신 start\n",
    "# 출력: 모든 친구의 이름\n",
    "\n",
    "def print_all_friends(g, start):\n",
    "    qu = []       # 기억 장소1: 앞으로 처리해야 할 사람들을 큐에 저장\n",
    "    done = set()  # 기억 장소2: 이미 큐에 추가한 사람들을 집합에 기록(중복 방지)\n",
    "\n",
    "    qu.append(start)  # 자신을 큐에 넣고 시작\n",
    "    done.add(start)   # 집합에도 추가\n",
    "\n",
    "    while qu:           # 큐에 처리할 사람이 남아 있는 동안\n",
    "        p = qu.pop(0)   # 큐에서 처리 대상을 한 명 꺼내\n",
    "        print(p)        # 이름을 출력하고\n",
    "        for x in g[p]:  # 그의 친구들 중에\n",
    "            if x not in done:  # 아직 큐에 추가된 적이 없는 사람을\n",
    "                qu.append(x)   # 큐에 추가하고\n",
    "                done.add(x)    # 집합에도 추가\n",
    "\n",
    "# 친구 관계 리스트\n",
    "# A와 B가 친구이면\n",
    "# A의 친구 리스트에도 B가 나오고, B의 친구 리스트에도 A가 나옴\n",
    "fr_info = {\n",
    "    'Summer': ['John', 'Justin', 'Mike'],\n",
    "    'John': ['Summer', 'Justin'],\n",
    "    'Justin': ['John', 'Summer', 'Mike', 'May'],\n",
    "    'Mike': ['Summer', 'Justin'],\n",
    "    'May': ['Justin', 'Kim'],\n",
    "    'Kim': ['May'],\n",
    "    'Tom': ['Jerry'],\n",
    "    'Jerry': ['Tom']\n",
    "}\n",
    "\n",
    "print_all_friends(fr_info, 'Summer')\n",
    "print()\n",
    "print_all_friends(fr_info, 'Jerry')\n"
   ]
  },
  {
   "cell_type": "markdown",
   "metadata": {},
   "source": [
    "* 위는 그래프에서 연결된 모든 꼭짓점을 탐색하므로, 그래프 탐색 알고리즘이라고도 불린다."
   ]
  },
  {
   "cell_type": "markdown",
   "metadata": {},
   "source": [
    "### 친밀도 계산 알고리즘\n",
    "* 예를 들어 A와 B가 친구고, B와 C가 친구라면, A를 기준으로 B의 친밀도는 1, C는 2이다.\n",
    "* 일반적으로 A라는 사람과 X라는 사람의 친밀도가 n이라면, X의 친구 Y는 A와 친밀도가 n+1이 된다.\n",
    "* 이 성질을 활용하여, 어떤 사람의 친구들을 큐에 넣을 때 친밀도를 1씩 증가시킨다."
   ]
  },
  {
   "cell_type": "code",
   "execution_count": 2,
   "metadata": {},
   "outputs": [
    {
     "name": "stdout",
     "output_type": "stream",
     "text": [
      "Summer 0\n",
      "John 1\n",
      "Justin 1\n",
      "Mike 1\n",
      "May 2\n",
      "Kim 3\n",
      "\n",
      "Jerry 0\n",
      "Tom 1\n"
     ]
    }
   ],
   "source": [
    "# 친구 리스트에서 자신의 모든 친구를 찾고 친구들의 친밀도를 계산하는 알고리즘\n",
    "# 입력: 친구 관계 그래프 g, 모든 친구를 찾을 자신 start\n",
    "# 출력: 모든 친구의 이름과 자신과의 친밀도\n",
    "\n",
    "def print_all_friends(g, start):\n",
    "    qu = []       # 기억 장소 1: 앞으로 처리해야 할 (사람 이름, 친밀도) 튜플을 큐에 저장\n",
    "    done = set()  # 기억 장소 2: 이미 큐에 추가한 사람을 집합에 기록(중복 방지)\n",
    "\n",
    "    qu.append((start, 0))  # (사람 이름, 친밀도) 정보를 하나의 튜플로 묶어 처리(자기 자신 친밀도: 0)\n",
    "    done.add(start)        # 집합에도 추가\n",
    "\n",
    "    while qu:               # 큐에 처리할 사람이 남아 있는 동안\n",
    "        (p, d) = qu.pop(0)  # 큐에서 (사람 이름, 친밀도) 정보를 p와 d로 각각 꺼냄\n",
    "        print(p, d)         # 사람 이름과 친밀도를 출력\n",
    "        for x in g[p]:      # 친구들 중에\n",
    "            if x not in done:          # 아직 큐에 추가된 적이 없는 사람을\n",
    "                qu.append((x, d + 1))  # 친밀도를 1 증가시켜 큐에 추가하고\n",
    "                done.add(x)            # 집합에도 추가\n",
    "\n",
    "fr_info = {\n",
    "    'Summer': ['John', 'Justin', 'Mike'],\n",
    "    'John': ['Summer', 'Justin'],\n",
    "    'Justin': ['John', 'Summer', 'Mike', 'May'],\n",
    "    'Mike': ['Summer', 'Justin'],\n",
    "    'May': ['Justin', 'Kim'],\n",
    "    'Kim': ['May'],\n",
    "    'Tom': ['Jerry'],\n",
    "    'Jerry': ['Tom']\n",
    "}\n",
    "\n",
    "print_all_friends(fr_info, 'Summer')\n",
    "print()\n",
    "print_all_friends(fr_info, 'Jerry')\n"
   ]
  },
  {
   "cell_type": "markdown",
   "metadata": {},
   "source": [
    "### 연습문제 15-1\n",
    "그래프 탐색 알고리즘을 이용하여 다음 그래프를 탐색하는 프로그램을 만드시오. 시작 꼭짓점: 1"
   ]
  },
  {
   "cell_type": "markdown",
   "metadata": {},
   "source": [
    "처리해야 할 꼭짓점을 큐에서 하나씩 꺼내 처리하고, 그 꼭짓점에 연결된 꼭짓점들을 다시 큐에 추가하면서 그래프를 탐색하는 방법을 '너비 우선 탐색(Breadth First Search)'이라 한다."
   ]
  },
  {
   "cell_type": "code",
   "execution_count": 6,
   "metadata": {},
   "outputs": [
    {
     "name": "stdout",
     "output_type": "stream",
     "text": [
      "1\n",
      "2\n",
      "3\n",
      "4\n",
      "5\n"
     ]
    }
   ],
   "source": [
    "def pather(g, start):\n",
    "    qu = []\n",
    "    done = set()\n",
    "\n",
    "    qu.append(start)\n",
    "    done.add(start)\n",
    "\n",
    "    while qu: \n",
    "        p = qu.pop(0) \n",
    "        print(p)\n",
    "        for x in g[p]:\n",
    "            if x not in done:\n",
    "                qu.append(x)\n",
    "                done.add(x) \n",
    "\n",
    "numbers = {\n",
    "    '1': ['2', '3'],\n",
    "    '2': ['1', '4', '5'],\n",
    "    '3': ['1'],\n",
    "    '4': ['2'],\n",
    "    '5': ['2']\n",
    "}\n",
    "\n",
    "pather(numbers, '1')"
   ]
  },
  {
   "cell_type": "markdown",
   "metadata": {},
   "source": [
    "### 연습문제 15-2\n",
    "연습문제 15-1에서 만든 프로그램이 그래프를 탐색해 가는 과정을 단계별로 적어 보시오."
   ]
  },
  {
   "cell_type": "markdown",
   "metadata": {},
   "source": [
    "|No|설명|큐와 집합|\n",
    "|---|---|---|\n",
    "|1|1에서 시작한다.|qu = [1], done = {1}|\n",
    "|2|qu에서 1을 꺼내어 2, 3을 각각 추가한다.|qu = [2, 3], done = {1, 2, 3}|\n",
    "|3|qu에서 2를 꺼내고 1은 이미 있으니 추가하지 않고, 4, 5를 각각 추가한다.|qu = [3, 4, 5] done = {1, 2, 3, 4, 5}|\n",
    "|4|qu에서 3을 꺼내 출력한다. 1은 이미 있으니 추가하지 않는다.|qu = [4, 5] done = {1, 2, 3, 4, 5}|\n",
    "|5|qu에서 4를 꺼내 출력한다. 2는 이미 있으니 추가하지 않는다.|qu = [5] done = {1, 2, 3, 4, 5}|\n",
    "|6|qu에서 5를 꺼내 출력한다. 2는 이미 있으니 추가하지 않는다.|qu = [] done = {1, 2, 3, 4, 5}|\n",
    "|7|qu가 비었으므로 종료한다.||"
   ]
  }
 ],
 "metadata": {
  "kernelspec": {
   "display_name": "Python 3.7.7 64-bit",
   "language": "python",
   "name": "python3"
  },
  "language_info": {
   "codemirror_mode": {
    "name": "ipython",
    "version": 3
   },
   "file_extension": ".py",
   "mimetype": "text/x-python",
   "name": "python",
   "nbconvert_exporter": "python",
   "pygments_lexer": "ipython3",
   "version": "3.7.7"
  },
  "orig_nbformat": 4,
  "vscode": {
   "interpreter": {
    "hash": "d49c3f6d6dd49f9272b571d9fad348ab55b8c6c3f691520d74ed0af1f69c3dd8"
   }
  }
 },
 "nbformat": 4,
 "nbformat_minor": 2
}
