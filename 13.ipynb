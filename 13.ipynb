{
 "cells": [
  {
   "cell_type": "markdown",
   "metadata": {},
   "source": [
    "# 13 회문 찾기"
   ]
  },
  {
   "cell_type": "code",
   "execution_count": null,
   "metadata": {},
   "outputs": [],
   "source": [
    "# simple queue\n",
    "qu = []\n",
    "qu.append(x) # enqueue\n",
    "x = qu.pop(0) # dequeue 맨 앞에서 자료 꺼냄\n",
    "\n",
    "# simple stack\n",
    "st = []\n",
    "st.append(x) # push\n",
    "x = st.pop() # pop 맨 뒤에서 자료 꺼냄"
   ]
  },
  {
   "cell_type": "markdown",
   "metadata": {},
   "source": [
    "### 회문 찾기 알고리즘\n",
    "* 회문 여부를 판단할 문장을 각각 큐와 스택에 넣고 하나씩 자료를 꺼냈을 때 모두 일치하면 회문이라고 할 수 있다.\n",
    "* 큐는 들어간 순서 그대로, 스택은 들어간 순서의 역방향으로 나오기 때문."
   ]
  },
  {
   "cell_type": "code",
   "execution_count": 7,
   "metadata": {},
   "outputs": [
    {
     "name": "stdout",
     "output_type": "stream",
     "text": [
      "True\n",
      "True\n",
      "False\n"
     ]
    }
   ],
   "source": [
    "def palindrome(s):\n",
    "    # 큐와 스택을 리스트로 정의\n",
    "    qu = []\n",
    "    st = []\n",
    "    # 1: 문자열의 알파벳 문자를 각각 큐와 스택에 넣음\n",
    "    for x in s:\n",
    "        # 해당 문자가 알파벳이면(공백, 특수문자, 숫자가 아니면)\n",
    "        # 큐와 스택에 각각 그 문자를 추가\n",
    "        if x.isalpha(): # 알파벳 문자인지 확인\n",
    "            qu.append(x.lower())\n",
    "            st.append(x.lower())\n",
    "    # 2: 큐와 스택에 들어 있는 문자를 꺼내면서 비교\n",
    "    while qu:  # 큐에 문자가 남아 있는 동안 반복\n",
    "        if qu.pop(0) != st.pop():  # 큐와 스택에서 꺼낸 문자가 다르면 회문이 아님\n",
    "            return False\n",
    "\n",
    "    return True\n",
    "\n",
    "print(palindrome(\"Wow\"))\n",
    "print(palindrome(\"Madam, I’m Adam.\"))\n",
    "print(palindrome(\"Madam, I am Adam.\"))"
   ]
  },
  {
   "cell_type": "markdown",
   "metadata": {},
   "source": [
    "### 연습문제 13-1\n",
    "큐와 스택을 이용하지 않고 회문 판별 알고리즘을 만들어라. 문장의 앞뒤를 차례로 비교하면서 문자가 같은지 확인하라."
   ]
  },
  {
   "cell_type": "code",
   "execution_count": 10,
   "metadata": {},
   "outputs": [
    {
     "name": "stdout",
     "output_type": "stream",
     "text": [
      "True\n",
      "True\n",
      "False\n"
     ]
    }
   ],
   "source": [
    "def palindrome_ex(s):\n",
    "    r = ''\n",
    "    for i in s:\n",
    "        if i.isalpha():\n",
    "            r += i.lower()\n",
    "    l = len(r)\n",
    "    for j in range(l//2):\n",
    "        if r[j] != r[l-1-j]:\n",
    "            return False\n",
    "    return True\n",
    "\n",
    "print(palindrome_ex(\"Wow\"))\n",
    "print(palindrome_ex(\"Madam, I’m Adam.\"))\n",
    "print(palindrome_ex(\"Madam, I am Adam.\"))"
   ]
  }
 ],
 "metadata": {
  "kernelspec": {
   "display_name": "Python 3.7.7 64-bit",
   "language": "python",
   "name": "python3"
  },
  "language_info": {
   "codemirror_mode": {
    "name": "ipython",
    "version": 3
   },
   "file_extension": ".py",
   "mimetype": "text/x-python",
   "name": "python",
   "nbconvert_exporter": "python",
   "pygments_lexer": "ipython3",
   "version": "3.7.7"
  },
  "orig_nbformat": 4,
  "vscode": {
   "interpreter": {
    "hash": "d49c3f6d6dd49f9272b571d9fad348ab55b8c6c3f691520d74ed0af1f69c3dd8"
   }
  }
 },
 "nbformat": 4,
 "nbformat_minor": 2
}
