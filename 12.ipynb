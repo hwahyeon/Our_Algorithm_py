{
 "cells": [
  {
   "cell_type": "markdown",
   "metadata": {},
   "source": [
    "# 12 이분 탐색"
   ]
  },
  {
   "cell_type": "markdown",
   "metadata": {},
   "source": [
    "* 이분 탐색은 이진 탐색이라고도 불린다.\n",
    "* 정렬된 자료에만 적응할 수 있다. ex) 책 쪽 수 찾기 등\n",
    "* 이분 탐색의 계산 복잡도는 O($logn$)으로, 순차 탐색의 계산 복잡도인 O(n)보다 효율적이다."
   ]
  },
  {
   "cell_type": "code",
   "execution_count": 1,
   "metadata": {},
   "outputs": [
    {
     "name": "stdout",
     "output_type": "stream",
     "text": [
      "5\n",
      "-1\n"
     ]
    }
   ],
   "source": [
    "# 리스트에서 특정 숫자 위치 찾기(이분 탐색과 재귀 호출)\n",
    "# 입력: 리스트 a, 찾는 값 x \n",
    "# 출력: 특정 숫자를 찾으면 그 값의 위치, 찾지 못하면 -1\n",
    "\n",
    "# 리스트 a의 어디부터(start) 어디까지(end)가 탐색 범위인지 지정하여\n",
    "# 그 범위 안에서 x를 찾는 재귀 함수\n",
    "def binary_search_sub(a, x, start, end):\n",
    "    # 종료 조건: 남은 탐색 범위가 비었으면 종료\n",
    "    if start > end:\n",
    "        return -1\n",
    "    \n",
    "    mid = (start + end) // 2  # 탐색 범위의 중간 위치\n",
    "    if x == a[mid]:   # 발견!\n",
    "        return mid\n",
    "    elif x > a[mid]:  # 찾는 값이 더 크면 중간을 기준으로 오른쪽 값을 대상으로 재귀 호출\n",
    "        return binary_search_sub(a, x, mid + 1, end)\n",
    "    else:             # 찾는 값이 더 작으면 중간을 기준으로 왼쪽 값을 대상으로 재귀 호출\n",
    "        return binary_search_sub(a, x, start, mid - 1)\n",
    "    \n",
    "    return -1         # 찾지 못했을 때\n",
    "\n",
    "# 리스트 전체(0 ~ len(a)-1)를 대상으로 재귀 호출 함수 호출\n",
    "def binary_search(a, x):\n",
    "    return binary_search_sub(a, x, 0, len(a) - 1)\n",
    "\n",
    "d = [1, 4, 9, 16, 25, 36, 49, 64, 81]\n",
    "print(binary_search(d, 36))\n",
    "print(binary_search(d, 50))"
   ]
  },
  {
   "cell_type": "markdown",
   "metadata": {},
   "source": [
    "### 연습문제 12-1\n",
    "다음 과정을 참고하여 재귀 호출을 사용한 이분 탐색 알고리즘을 만들어라.\n",
    "① 주어진 탐색 대상이 비어 있다면 탐색할 필요가 없습니다(종료 조건).\n",
    "② 찾는 값과 주어진 탐색 대상의 중간 위치 값을 비교합니다.\n",
    "③ 찾는 값과 중간 위치 값이 같다면 결괏값으로 중간 위치 값을 돌려줍니다.\n",
    "④ 찾는 값이 중간 위치 값보다 크다면 중간 위치의 오른쪽을 대상으로 이분 탐색 함수를 재귀 호출합니다.\n",
    "⑤ 찾는 값이 중간 위치 값보다 작다면 중간 위치의 왼쪽을 대상으로 이분 탐색 함수를 재귀 호출합니다."
   ]
  },
  {
   "cell_type": "code",
   "execution_count": 7,
   "metadata": {},
   "outputs": [
    {
     "name": "stdout",
     "output_type": "stream",
     "text": [
      "8\n",
      "-1\n"
     ]
    }
   ],
   "source": [
    "def binary_searcher(a, x):\n",
    "    l = a\n",
    "    n = len(l)\n",
    "    if l[n] == x:\n",
    "        return n\n",
    "    elif l[n] > x:\n",
    "        l = l[:n]\n",
    "        binary_searcher(l, x)\n",
    "    elif l[n] < x:\n",
    "        l = l[n:]\n",
    "        binary_searcher(l, x)\n",
    "    else:\n",
    "        return -1\n",
    "\n",
    "d = [1, 4, 9, 16, 25, 36, 49, 64, 81]\n",
    "print(binary_search(d, 81))\n",
    "print(binary_search(d, 80))"
   ]
  },
  {
   "cell_type": "markdown",
   "metadata": {},
   "source": [
    "### 계산 복잡도 비교\n",
    "\n",
    "* ① O(1): 입력 크기 n과 계산 복잡도가 무관할 때  \n",
    "* ② O(logn): 입력 크기 n의 로그 값에 비례하여 계산 복잡도가 증가할 때  \n",
    "*예) 이분 탐색 (문제 12)*  \n",
    "* ③ O(n): 입력 크기 n에 비례하여 계산 복잡도가 증가할 때  \n",
    "*예) 최댓값 찾기(문제 2), 순차 탐색(문제 7)*  \n",
    "* ④ O($n·logn$): 입력 크기 n과 로그 n 값의 곱에 비례하여 계산 복잡도가 증가할 때  \n",
    "*예) 병합 정렬(문제 10), 퀵 정렬(문제 11)*  \n",
    "* ⑤ O($n^2$): 입력 크기 n의 제곱에 비례하여 계산 복잡도가 증가할 때  \n",
    "*예) 선택 정렬(문제 8), 삽입 정렬(문제 9)*  \n",
    "* ⑥ O(2n): 입력 크기가 n일 때 2의 n 제곱 값에 비례하여 계산 복잡도가 증가할 때  \n",
    "*예) 하노이의 탑(문제 6)*"
   ]
  }
 ],
 "metadata": {
  "kernelspec": {
   "display_name": "Python 3.7.7 64-bit",
   "language": "python",
   "name": "python3"
  },
  "language_info": {
   "codemirror_mode": {
    "name": "ipython",
    "version": 3
   },
   "file_extension": ".py",
   "mimetype": "text/x-python",
   "name": "python",
   "nbconvert_exporter": "python",
   "pygments_lexer": "ipython3",
   "version": "3.7.7"
  },
  "orig_nbformat": 4,
  "vscode": {
   "interpreter": {
    "hash": "d49c3f6d6dd49f9272b571d9fad348ab55b8c6c3f691520d74ed0af1f69c3dd8"
   }
  }
 },
 "nbformat": 4,
 "nbformat_minor": 2
}
