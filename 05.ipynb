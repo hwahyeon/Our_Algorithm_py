{
 "cells": [
  {
   "cell_type": "markdown",
   "metadata": {},
   "source": [
    "# 05 최대공약수 구하기"
   ]
  },
  {
   "cell_type": "markdown",
   "metadata": {},
   "source": [
    "* 최대공약수 GCD(Greatest Common Divisor) : 두 개 이상의 정수의 공통 약수 중 가장 큰 값"
   ]
  },
  {
   "cell_type": "code",
   "execution_count": 1,
   "metadata": {},
   "outputs": [
    {
     "name": "stdout",
     "output_type": "stream",
     "text": [
      "1\n",
      "3\n",
      "12\n",
      "27\n"
     ]
    }
   ],
   "source": [
    "# 05-1 최대공약수\n",
    "\n",
    "def gcd(a, b):\n",
    "    i = min(a, b)\n",
    "    while True:\n",
    "        if a % i == 0 and b % i == 0:\n",
    "            return i\n",
    "        i = i - 1\n",
    "\n",
    "print(gcd(1, 5))    # 1\n",
    "print(gcd(3, 6))    # 3\n",
    "print(gcd(60, 24))  # 12\n",
    "print(gcd(81, 27))  # 27\n"
   ]
  },
  {
   "cell_type": "markdown",
   "metadata": {},
   "source": [
    "### 유클리드(Euclid) 알고리즘\n",
    "* a와 b의 최대공약수는 'b'와 'a를 b로 나눈 나머지(a % b)'의 최대공약수와 같다. gcd(a, b) = gcd(b, a % b)\n",
    "* 어떤 수와 0의 최대공약수는 자기 자신이다. gcd(n, 0) = n\n",
    "* 위 두 가지 성질로 재귀 함수를 짤 수 있다."
   ]
  },
  {
   "cell_type": "code",
   "execution_count": 2,
   "metadata": {},
   "outputs": [
    {
     "name": "stdout",
     "output_type": "stream",
     "text": [
      "1\n",
      "3\n",
      "12\n",
      "27\n"
     ]
    }
   ],
   "source": [
    "# 05-2 유클리드\n",
    "def gcd(a, b):\n",
    "    if b == 0:  # 종료 조건\n",
    "        return a\n",
    "    return gcd(b, a % b)  # 좀 더 작은 값으로 자기 자신을 호출\n",
    "\n",
    "print(gcd(1, 5))    # 1\n",
    "print(gcd(3, 6))    # 3\n",
    "print(gcd(60, 24))  # 12\n",
    "print(gcd(81, 27))  # 27"
   ]
  },
  {
   "cell_type": "markdown",
   "metadata": {},
   "source": [
    "### 재귀 호출 이해법\n",
    "* 함수가 호출될 때 안쪽으로 들여쓰고 값을 반환할 때 다시 바깥 쪽으로 돌아가는 식으로 과정을 직접 적어보자.\n",
    "* 함수에 print()를 넣어 과정을 살피자."
   ]
  },
  {
   "cell_type": "markdown",
   "metadata": {},
   "source": [
    "### 연습문제 5-1\n",
    "피보나치 수열이 0번부터 시작한다고 가정했을 때, n번째 피보나치 수를 구하는 함수를 재귀를 활용하여 만들어라."
   ]
  },
  {
   "cell_type": "code",
   "execution_count": 7,
   "metadata": {},
   "outputs": [
    {
     "name": "stdout",
     "output_type": "stream",
     "text": [
      "0\n",
      "1\n",
      "1\n",
      "13\n"
     ]
    }
   ],
   "source": [
    "def fibo(n):\n",
    "    if n < 2:\n",
    "        return n\n",
    "    return fibo(n-1) + fibo(n-2)\n",
    "\n",
    "print(fibo(0))\n",
    "print(fibo(1))\n",
    "print(fibo(2))\n",
    "print(fibo(7))"
   ]
  }
 ],
 "metadata": {
  "kernelspec": {
   "display_name": "Python 3.7.7 64-bit",
   "language": "python",
   "name": "python3"
  },
  "language_info": {
   "codemirror_mode": {
    "name": "ipython",
    "version": 3
   },
   "file_extension": ".py",
   "mimetype": "text/x-python",
   "name": "python",
   "nbconvert_exporter": "python",
   "pygments_lexer": "ipython3",
   "version": "3.7.7"
  },
  "orig_nbformat": 4,
  "vscode": {
   "interpreter": {
    "hash": "d49c3f6d6dd49f9272b571d9fad348ab55b8c6c3f691520d74ed0af1f69c3dd8"
   }
  }
 },
 "nbformat": 4,
 "nbformat_minor": 2
}
