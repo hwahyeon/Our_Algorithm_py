{
 "cells": [
  {
   "cell_type": "markdown",
   "metadata": {},
   "source": [
    "# 16 미로 찾기 알고리즘"
   ]
  },
  {
   "cell_type": "markdown",
   "metadata": {},
   "source": [
    "### 모델링(모형화)\n",
    "* 주어진 현실의 문제를 정형화하거나 단순화하여 수학이나 컴퓨터 프로그램으로 쉽게 설명할 수 있도록 다시 표현하는 것\n",
    "* 문제를 잘 모델링하고, 그 모델에 여러 알고리즘을 적용하여 문제를 푼 후, 그 결과를 다시 실제 세계에 적용하는 것이, 실생활의 문제를 컴퓨터로 푸는 일반적인 과정이다."
   ]
  },
  {
   "cell_type": "markdown",
   "metadata": {},
   "source": [
    "### 미로 찾기 문제 모델링\n",
    "* 미로 찾기 문제는 이동 가능한 위치에 이름을 붙여 모델링할 수 있다. (미로의 각 위치에 알파벳으로 이름을 지정)"
   ]
  },
  {
   "cell_type": "markdown",
   "metadata": {},
   "source": [
    "<img src = \"./image/160.jpg\" height = 20% width = 20%>  "
   ]
  },
  {
   "cell_type": "markdown",
   "metadata": {},
   "source": [
    "* 출발점 a에서 도착점 p의 가장 짧은 경로를 구하고, 그 과정에서 지나간 위치의 이름을 출력하면, aeimnjfghlp가 된다.\n",
    "* 각 위치 사이의 관계를 컴퓨터에게 알려주기 위해, 이웃한 위치를 선으로 연결한 그래프를 만든다."
   ]
  },
  {
   "cell_type": "markdown",
   "metadata": {},
   "source": [
    "<img src = \"./image/161.jpg\" height = 50% width = 50%>  "
   ]
  },
  {
   "cell_type": "code",
   "execution_count": null,
   "metadata": {},
   "outputs": [],
   "source": [
    "# 미로 찾기 프로그램(그래프 탐색)\n",
    "# 입력: 미로 정보 g, 출발점 start, 도착점 end\n",
    "# 출력: 미로를 나가기 위한 이동 경로는 문자열, 나갈 수 없는 미로면 물음표(\"?\")\n",
    "\n",
    "def solve_maze(g, start, end):\n",
    "    qu = []       # 기억 장소 1: 앞으로 처리해야 할 이동 경로를 큐에 저장\n",
    "    done = set()  # 기억 장소 2: 이미 큐에 추가한 꼭짓점들을 집합에 기록(중복 방지)\n",
    "\n",
    "    qu.append(start)  # 출발점을 큐에 넣고 시작\n",
    "    done.add(start)   # 집합에도 추가\n",
    "\n",
    "    while qu:           # 큐에 처리할 경로가 남아 있으면\n",
    "        p = qu.pop(0)   # 큐에서 처리 대상을 꺼냄\n",
    "        v = p[-1]       # 큐에 저장된 이동 경로의 마지막 문자가 현재 처리해야 할 꼭짓점\n",
    "        if v == end:    # 처리해야 할 꼭짓점이 도착점이면(목적지 도착!)\n",
    "            return p    # 지금까지의 전체 이동 경로를 돌려주고 종료\n",
    "        for x in g[v]:  # 대상 꼭짓점에 연결된 꼭짓점들 중에\n",
    "            if x not in done:     # 아직 큐에 추가된 적이 없는 꼭짓점을\n",
    "                qu.append(p + x)  # 이동 경로에 새 꼭짓점으로 추가하여 큐에 저장하고\n",
    "                done.add(x)       # 집합에도 추가함\n",
    "\n",
    "    # 탐색을 마칠 때까지 도착점이 나오지 않으면 나갈 수 없는 미로임\n",
    "    return \"?\"\n",
    "\n",
    "maze = {\n",
    "    'a': ['e'],\n",
    "    'b': ['c', 'f'],\n",
    "    'c': ['b', 'd'],\n",
    "    'd': ['c'],\n",
    "    'e': ['a', 'i'],\n",
    "    'f': ['b', 'g', 'j'],\n",
    "    'g': ['f', 'h'],\n",
    "    'h': ['g', 'l'],\n",
    "    'i': ['e', 'm'],\n",
    "    'j': ['f', 'k', 'n'],\n",
    "    'k': ['j', 'o'],\n",
    "    'l': ['h', 'p'],\n",
    "    'm': ['i', 'n'],\n",
    "    'n': ['m', 'j'],\n",
    "    'o': ['k'],\n",
    "    'p': ['l']\n",
    "}\n",
    "print(solve_maze(maze, 'a', 'p'))"
   ]
  }
 ],
 "metadata": {
  "kernelspec": {
   "display_name": "Python 3.7.7 64-bit",
   "language": "python",
   "name": "python3"
  },
  "language_info": {
   "name": "python",
   "version": "3.7.7"
  },
  "orig_nbformat": 4,
  "vscode": {
   "interpreter": {
    "hash": "d49c3f6d6dd49f9272b571d9fad348ab55b8c6c3f691520d74ed0af1f69c3dd8"
   }
  }
 },
 "nbformat": 4,
 "nbformat_minor": 2
}
