{
 "cells": [
  {
   "cell_type": "markdown",
   "metadata": {},
   "source": [
    "# 01 1부터 n까지의 합 구하기"
   ]
  },
  {
   "cell_type": "markdown",
   "metadata": {},
   "source": [
    "* O(n) : 필요한 계산 횟수가 입력 크기 n과 비례할 때\n",
    "* O(1) : 입력 크기가 커져도 계산 시간이 더 늘어나지 않을 때\n",
    "\n",
    "  \n",
    "* 입력 크기 n에 따라 덧셈을 두 번씩 하는 알고리즘은 O(2n)이지만, 대문자 O 표기법은 계산 횟수가 아닌 입력 크기와의 관계로 표현하는 방법이므로, O(2n)의 계산 횟수가 n과 정비례하면, 이 역시 O(n)으로 표기한다."
   ]
  },
  {
   "cell_type": "markdown",
   "metadata": {},
   "source": [
    "* 시간 복잡도 : 알고리즘을 수행하는 데 걸리는 시간 분석\n",
    "* 공간 복잡도 : 알고리즘을 수행하는 데 필요한 공간(메모리/기억 장소)를 분석"
   ]
  },
  {
   "cell_type": "markdown",
   "metadata": {},
   "source": [
    "### 연습문제 1-1  \n",
    "1부터 n까지 연속한 숫자의 제곱의 합을 구하는 프로그램을 for 반복문으로 만들라."
   ]
  },
  {
   "cell_type": "code",
   "execution_count": 1,
   "metadata": {},
   "outputs": [
    {
     "name": "stdout",
     "output_type": "stream",
     "text": [
      "385\n"
     ]
    }
   ],
   "source": [
    "n = int(input())\n",
    "res = 0\n",
    "for i in range(1, n+1):\n",
    "    res += i**2\n",
    "print(res)"
   ]
  },
  {
   "cell_type": "markdown",
   "metadata": {},
   "source": [
    "### 연습문제 1-2  \n",
    "1-1 프로그램의 계산 복잡도는 O(1)인가 O(n)인가?"
   ]
  },
  {
   "cell_type": "markdown",
   "metadata": {},
   "source": [
    "- 입력값에 따라 복잡도가 달라지니 O(n)이다."
   ]
  },
  {
   "cell_type": "markdown",
   "metadata": {},
   "source": [
    "### 연습문제 1-3\n",
    "1부터 n까지 연속한 숫자의 제곱의 합은 $\\frac{n(n+1)(2n+1)}{6}$ 이다. 이 공식을 사용한 알고리즘의 계산 복잡도는 O(1)인가 O(n)인가?"
   ]
  },
  {
   "cell_type": "markdown",
   "metadata": {},
   "source": [
    "- 입력값의 크기와 복잡도가 무관함으로 O(1)이다."
   ]
  }
 ],
 "metadata": {
  "kernelspec": {
   "display_name": "Python 3.7.7 64-bit",
   "language": "python",
   "name": "python3"
  },
  "language_info": {
   "codemirror_mode": {
    "name": "ipython",
    "version": 3
   },
   "file_extension": ".py",
   "mimetype": "text/x-python",
   "name": "python",
   "nbconvert_exporter": "python",
   "pygments_lexer": "ipython3",
   "version": "3.7.7"
  },
  "orig_nbformat": 4,
  "vscode": {
   "interpreter": {
    "hash": "d49c3f6d6dd49f9272b571d9fad348ab55b8c6c3f691520d74ed0af1f69c3dd8"
   }
  }
 },
 "nbformat": 4,
 "nbformat_minor": 2
}
