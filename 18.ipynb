{
 "cells": [
  {
   "cell_type": "markdown",
   "metadata": {},
   "source": [
    "# 18 최대 수익 알고리즘"
   ]
  },
  {
   "cell_type": "markdown",
   "metadata": {},
   "source": [
    "|날짜|주가|날짜|주가|\n",
    "|---|---|---|---|\n",
    "|6/1|10300|6/8|8300|\n",
    "|6/2|9600|6/9|9500|\n",
    "|6/3|6800|6/10|9800|\n",
    "|6/4|8200|6/11|10200|\n",
    "|6/5|7800|6/12|9500|"
   ]
  },
  {
   "cell_type": "markdown",
   "metadata": {},
   "source": [
    "* 가장 쌀 때 사서, 가장 비쌀 때 파는 것이 최대 수익이다.\n",
    "* 주가의 최댓값에서 주가의 최솟값을 뺀 것으로 착각하기 쉬우나 정답이 될 수 없다. 여기선 최대값이 6/1, 최소값이 6/5일이다. 아직 사지도 않은 주식을 6월 1일에 먼저 팔고 6월 5일에 주식을 살 수는 없으므로 이 방법은 불가하다. (공매도는 이 문제에서 생각하지 아니함)\n",
    "* 정확한 날짜는 필요 없으므로, 주식 가격만 리스트로 만듦. [10300, 9600, 9800, 8200, 7800, 8300, 9500, 9800, 10200, 9500]"
   ]
  },
  {
   "cell_type": "markdown",
   "metadata": {},
   "source": [
    "### 방법 1 : 가능한 모든 경우 비교하기"
   ]
  },
  {
   "cell_type": "code",
   "execution_count": 1,
   "metadata": {},
   "outputs": [
    {
     "name": "stdout",
     "output_type": "stream",
     "text": [
      "2400\n"
     ]
    }
   ],
   "source": [
    "# 주어진 주식 가격을 보고 얻을 수 있는 최대 수익을 구하는 알고리즘\n",
    "# 입력: 주식 가격의 변화 값(리스트: prices)\n",
    "# 출력: 한 주를 한 번 사고팔아 얻을 수 있는 최대 수익 값\n",
    "\n",
    "def max_profit(prices):\n",
    "    n = len(prices)\n",
    "    max_profit = 0  # 최대 수익은 항상 0 이상의 값\n",
    "\n",
    "    for i in range(0, n - 1):\n",
    "        for j in range(i + 1, n):\n",
    "            profit = prices[j] - prices[i]  # i날에 사서 j날에 팔았을 때 얻을 수 있는 수익\n",
    "            if profit > max_profit:  # 이 수익이 지금까지 최대 수익보다 크면 값을 고침\n",
    "                max_profit = profit\n",
    "\n",
    "    return max_profit\n",
    "\n",
    "stock = [10300, 9600, 9800, 8200, 7800, 8300, 9500, 9800, 10200, 9500]\n",
    "print(max_profit(stock))"
   ]
  },
  {
   "cell_type": "markdown",
   "metadata": {},
   "source": [
    "### 방법 2 : 한 번 반복으로 최대 수익 찾기\n",
    "* 위 방법은 비교를 너무 많이 한다.\n",
    "* 위 프로그램은 사는 날을 중심으로 생각한 것인데, 파는 날을 중심으로 생각해 볼 수도 있다. 즉, 파는 날을 기준으로 이전 날들의 주가 중 최솟값만 알면 최대 수익을 쉽게 계산할 수 있다.\n",
    "  \n",
    "* 1. 최대 수익을 저장하는 변수를 만들고 0을 저장함.\n",
    "* 2. 최저 주가를 저장하는 변수를 만들고 첫날의 주가를 기록함.\n",
    "* 3. 둘째 날의 주가부터 마지막 날의 주가까지 반복하여, 그날의 주가에서 최저 주가를 뺸 값이 현재 최대 수익보다 크면 최대 수익값을 변경함. 또한 그날의 주가가 최저 주가보다 낮으면 최저 주가 값을 그날의 주가로 변경함.\n",
    "* 4. 처리할 날이 남았으면 3번을 반복함. 다 마쳤으면 결괏값 반환."
   ]
  },
  {
   "cell_type": "code",
   "execution_count": 11,
   "metadata": {},
   "outputs": [
    {
     "name": "stdout",
     "output_type": "stream",
     "text": [
      "2400\n"
     ]
    }
   ],
   "source": [
    "# 주어진 주식 가격을 보고 얻을 수 있는 최대 수익을 구하는 알고리즘\n",
    "# 입력: 주식 가격의 변화 값(리스트: prices)\n",
    "# 출력: 한 주를 한 번 사고팔아 얻을 수 있는 최대 수익 값\n",
    "\n",
    "def max_profit(prices):\n",
    "    n = len(prices)\n",
    "    max_profit = 0         # 최대 수익은 항상 0 이상의 값\n",
    "    min_price = prices[0]  # 첫째 날의 주가를 주가의 최솟값으로 기억\n",
    "\n",
    "    for i in range(1, n):  # 1부터 n-1까지 반복\n",
    "        profit = prices[i] - min_price  # 지금까지의 최솟값에 주식을 사서 i날에 팔 때의 수익\n",
    "        if profit > max_profit:   # 이 수익이 지금까지 최대 수익보다 크면 값을 고침\n",
    "            max_profit = profit\n",
    "        if prices[i] < min_price: # i날 주가가 최솟값보다 작으면 값을 고침\n",
    "            min_price = prices[i]\n",
    "\n",
    "    return max_profit\n",
    "\n",
    "stock = [10300, 9600, 9800, 8200, 7800, 8300, 9500, 9800, 10200, 9500]\n",
    "print(max_profit(stock))"
   ]
  },
  {
   "cell_type": "markdown",
   "metadata": {},
   "source": [
    "### 알고리즘 분석\n",
    "* 첫 번째 알고리즘은 O($n^2$), 두 번째 알고리즘은 O(n)이다.\n",
    "* 컴퓨터 환경에 따라 입력 크기가 작을때 알고리즘의 수행 시간이 너무 짧아 0초로 측정될 수 있다. 이런 상황에서는 두 알고리즘의 시간 차이 배수를 0으로 출력하게 하였다."
   ]
  },
  {
   "cell_type": "code",
   "execution_count": 14,
   "metadata": {},
   "outputs": [
    {
     "name": "stdout",
     "output_type": "stream",
     "text": [
      "입력 크기 |  느린 알고리즘 시간 |  빠른 알고리즘 시간 |  느린 시간 / 빠른 시간\n",
      "100 14421 14421\n",
      "100 0.00000 0.00000 0.00\n",
      "10000 14999 14999\n",
      "10000 4.15974 0.00097 4270.00\n"
     ]
    }
   ],
   "source": [
    "# 최대 수익 문제를 푸는 두 알고리즘의 계산 속도 비교하기\n",
    "# 최대 수익 문제를 O(n*n)과 O(n)으로 푸는 알고리즘을 각각 수행하여\n",
    "# 걸린 시간을 출력/비교함\n",
    "\n",
    "import time     # 시간 측정을 위한 time 모듈\n",
    "import random  # 테스트 주가 생성을 위한 random 모듈\n",
    "\n",
    "# 최대 수익: 느린 O(n*n) 알고리즘\n",
    "def max_profit_slow(prices):\n",
    "    n = len(prices)\n",
    "    max_profit = 0\n",
    "\n",
    "    for i in range(0, n - 1):\n",
    "        for j in range(i + 1, n):\n",
    "            profit = prices[j] - prices[i]\n",
    "            if profit > max_profit:\n",
    "                max_profit = profit\n",
    "\n",
    "    return max_profit\n",
    "\n",
    "# 최대 수익: 빠른 O(n) 알고리즘\n",
    "def max_profit_fast(prices):\n",
    "    n = len(prices)\n",
    "    max_profit = 0\n",
    "    min_price = prices[0]\n",
    "\n",
    "    for i in range(1, n):\n",
    "        profit = prices[i] - min_price\n",
    "        if profit > max_profit:\n",
    "            max_profit = profit\n",
    "        if prices[i] < min_price:\n",
    "            min_price = prices[i]\n",
    "\n",
    "    return max_profit\n",
    "\n",
    "def test(n):\n",
    "    # 테스트 자료 만들기(5000부터 20000까지의 난수를 주가로 사용)\n",
    "    a = []\n",
    "    for i in range(0, n):\n",
    "        a.append(random.randint(5000, 20000))\n",
    "\n",
    "    # 느린 O(n*n) 알고리즘 테스트\n",
    "    start = time.time()       # 계산 시작 직전 시각을 기억\n",
    "    mps = max_profit_slow(a)  # 계산 수행\n",
    "    end = time.time()         # 계산 시작 직후 시각을 기억\n",
    "    time_slow = end - start   # 두 시각을 빼면 계산에 걸린 시간\n",
    "    # 빠른 O(n) 알고리즘 테스트\n",
    "    start = time.time()       # 계산 시작 직전 시각을 기억\n",
    "    mpf = max_profit_fast(a)  # 계산 수행\n",
    "    end = time.time()         # 계산 시작 직후 시각을 기억\n",
    "    time_fast = end - start   # 두 시각을 빼면 계산에 걸린 시간\n",
    "    # 결과 출력: 계산 결과\n",
    "    print(n, mps, mpf)  # 입력 크기, 각각 알고리즘이 계산한 최대 수익 값(같아야 함)\n",
    "    # 결과 출력: 계산 시간 비교\n",
    "    m = 0  # 느린 알고리즘과 빠른 알고리즘의 수행 시간 비율을 저장할 변수\n",
    "    if time_fast > 0:  # 컴퓨터 환경에 따라 빠른 알고리즘 시간이 0으로 측정될 수 있음(이럴 때는 0을 출력)\n",
    "        m = time_slow / time_fast  # 느린 알고리즘 시간 / 빠른 알고리즘 시간\n",
    "    # 입력 크기, 느린 알고리즘 수행 시간, 빠른 알고리즘 수행 시간, 느린 알고리즘 시간 / 빠른 알고리즘 시간\n",
    "    # %d는 정수 출력, %.5f는 소수점 다섯 자리까지 출력을 의미\n",
    "    print(\"%d %.5f %.5f %.2f\" % (n, time_slow, time_fast, m))\n",
    "\n",
    "print('입력 크기 | ', '느린 알고리즘 시간 | ', '빠른 알고리즘 시간 | ', ('느린 시간 / 빠른 시간'))\n",
    "test(100)\n",
    "test(10000)\n",
    "#test(100000)  # 수행 시간이 오래 걸리므로 일단 주석 처리"
   ]
  },
  {
   "cell_type": "markdown",
   "metadata": {},
   "source": [
    "* 실행 결과를 보면 입력 크기에 따라 격차가 기하급수적으로 커지는 것을 볼 수 있다."
   ]
  }
 ],
 "metadata": {
  "kernelspec": {
   "display_name": "Python 3.7.7 64-bit",
   "language": "python",
   "name": "python3"
  },
  "language_info": {
   "codemirror_mode": {
    "name": "ipython",
    "version": 3
   },
   "file_extension": ".py",
   "mimetype": "text/x-python",
   "name": "python",
   "nbconvert_exporter": "python",
   "pygments_lexer": "ipython3",
   "version": "3.7.7"
  },
  "orig_nbformat": 4,
  "vscode": {
   "interpreter": {
    "hash": "d49c3f6d6dd49f9272b571d9fad348ab55b8c6c3f691520d74ed0af1f69c3dd8"
   }
  }
 },
 "nbformat": 4,
 "nbformat_minor": 2
}
