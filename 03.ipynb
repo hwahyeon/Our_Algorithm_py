{
 "cells": [
  {
   "cell_type": "markdown",
   "metadata": {},
   "source": [
    "# 03 동명이인 찾기 ①"
   ]
  },
  {
   "cell_type": "markdown",
   "metadata": {},
   "source": [
    "### 집합\n",
    "* add(x) : 집합에 자료 x를 추가한다.\n",
    "* discard(x) : 집합에 자료 x가 있다면 삭제, 없으면 변화 없음.\n",
    "* clear() : 집합 모든 자료 삭제"
   ]
  },
  {
   "cell_type": "code",
   "execution_count": null,
   "metadata": {},
   "outputs": [],
   "source": [
    "# 비교를 위한 for문\n",
    "n = 10\n",
    "for i in range(0, n - 1):\n",
    "    for j in range(i + 1, n):\n",
    "        print(i, j)"
   ]
  },
  {
   "cell_type": "markdown",
   "metadata": {},
   "source": [
    "위 비교의 전체 횟수는 결국 0부터 n-1까지의 합이며, $\\frac{n(n-1)}{2}$로 나타낼 수 있다. $\\frac{1}{2}n^2-\\frac{1}{2}n$번 반복되는 것이지만, n의 제곱에 비례해서 계산 시간이 변하는 것이 핵심이므로, n의 제곱 계수나 나머지 수식은 무시하고 O($O^2$)로 나타낸다."
   ]
  },
  {
   "cell_type": "code",
   "execution_count": 1,
   "metadata": {},
   "outputs": [
    {
     "name": "stdout",
     "output_type": "stream",
     "text": [
      "{'Tom'}\n",
      "{'Tom', 'Mike'}\n"
     ]
    }
   ],
   "source": [
    "# 동명이인을 찾기\n",
    "\n",
    "def find_same_name(a):\n",
    "    n = len(a)   # 리스트의 자료 개수를 n에 저장\n",
    "    result = set()  # 결과를 저장할 빈 집합\n",
    "    for i in range(0, n - 1):      # 0부터 n-2까지 반복\n",
    "        for j in range(i + 1, n):  # i+1부터 n-1까지 반복\n",
    "            if a[i] == a[j]:       # 이름이 같으면\n",
    "                result.add(a[i])   # 찾은 이름을 result에 추가\n",
    "    return result\n",
    "\n",
    "name = [\"Tom\", \"Jerry\", \"Mike\", \"Tom\"]\n",
    "print(find_same_name(name))\n",
    "\n",
    "name2 = [\"Tom\", \"Jerry\", \"Mike\", \"Tom\", \"Mike\"]\n",
    "print(find_same_name(name2))"
   ]
  },
  {
   "cell_type": "markdown",
   "metadata": {},
   "source": [
    "### 알고리즘 분석\n",
    "\n",
    "n=4 일 때,\n",
    "|i|a[i]|j|비교 대상|비교 횟수|\n",
    "|---|---|---|---|---|\n",
    "|0|a[i] = \"Tom\"|j = 1, 2, 3|\"Jerry\", \"Mike\", \"Tom\"|3|\n",
    "|1|a[i] = \"Jerry\"|j = 2, 3|\"Mike\", \"Tom\"|2|\n",
    "|2|a[i] = \"Mike\"|j = 3|\"Tom\"|1|\n",
    "|3|a[i] = \"Tom\"||비교 안함|0|\n",
    "  \n",
    "전체 비교 횟수 = 3+2+1+0=6\n",
    "\n",
    "즉, 일반적인 입력 크기인 n에 대해 보면, 0부터 n-1까지의 합이 되므로, 1부터 n까지의 합을 구하는 공식에 n 대신 n-1을 대입하여 $\\frac{1}{2}n^2-\\frac{1}{2}n$ 로 표현할 수 있다. 이는 곧 O($n^2$)이다."
   ]
  },
  {
   "cell_type": "markdown",
   "metadata": {},
   "source": [
    "### 연습문제 3-1 \n",
    "n명 중 두 명을 뽑아 짝을 지을 수 있는 모든 조합을 출력하는 알고리즘을 만들라."
   ]
  },
  {
   "cell_type": "code",
   "execution_count": 2,
   "metadata": {},
   "outputs": [
    {
     "name": "stdout",
     "output_type": "stream",
     "text": [
      "Tom-Jerry\n",
      "Tom-Mike\n",
      "Jerry-Mike\n"
     ]
    }
   ],
   "source": [
    "def pair_lst(l=[\"Nobody\"]):\n",
    "    n = len(l)\n",
    "    for i in range(n-1):\n",
    "        for j in range(i+1, n):\n",
    "            print(l[i]+'-'+l[j])\n",
    "\n",
    "pair_lst([\"Tom\", \"Jerry\", \"Mike\"])"
   ]
  },
  {
   "cell_type": "markdown",
   "metadata": {},
   "source": [
    "n명에서 두 명을 뽑아 짝으로 만들면 짝 조합이 $\\frac{n(n-1)}{2}$가지 출력된다. 이 경우의 수를 $nC_2$라고도 표현한다."
   ]
  },
  {
   "cell_type": "markdown",
   "metadata": {},
   "source": [
    "### 연습문제 3-2\n",
    "각각 대문자 O표기법으로 표현하라"
   ]
  },
  {
   "cell_type": "markdown",
   "metadata": {},
   "source": [
    "A 66536 => O(1)  \n",
    "B $n-1$ => O(n)  \n",
    "C $\\frac{2n^3}{3}+10000n$ => O($n^2$)  \n",
    "D $3n^4-4n^3+5n^2-6n+7$ => O($n^4$)"
   ]
  },
  {
   "cell_type": "markdown",
   "metadata": {},
   "source": [
    "* 대문자 O표기법의 정확한 수학적 정의에 따르면, 한 식에 대한 대문자 O표기법은 하나만 정답이 아니나, 최대한 간단히 적는 것이 일반적이다."
   ]
  }
 ],
 "metadata": {
  "kernelspec": {
   "display_name": "Python 3.7.7 64-bit",
   "language": "python",
   "name": "python3"
  },
  "language_info": {
   "codemirror_mode": {
    "name": "ipython",
    "version": 3
   },
   "file_extension": ".py",
   "mimetype": "text/x-python",
   "name": "python",
   "nbconvert_exporter": "python",
   "pygments_lexer": "ipython3",
   "version": "3.7.7"
  },
  "orig_nbformat": 4,
  "vscode": {
   "interpreter": {
    "hash": "d49c3f6d6dd49f9272b571d9fad348ab55b8c6c3f691520d74ed0af1f69c3dd8"
   }
  }
 },
 "nbformat": 4,
 "nbformat_minor": 2
}
