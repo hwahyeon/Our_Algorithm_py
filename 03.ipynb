{
 "cells": [
  {
   "cell_type": "markdown",
   "metadata": {},
   "source": [
    "# 03 동명이인 찾기 ①"
   ]
  },
  {
   "cell_type": "markdown",
   "metadata": {},
   "source": [
    "### 집합\n",
    "* discard(x) : 집합에 자료 x가 있다면 삭제, 없으면 변화 없음.\n",
    "* clear() : 집합 모든 자료 삭제"
   ]
  },
  {
   "cell_type": "code",
   "execution_count": null,
   "metadata": {},
   "outputs": [],
   "source": [
    "# 비교를 위한 for문\n",
    "n = 10\n",
    "for i in range(0, n - 1):\n",
    "    for j in range(i + 1, n):\n",
    "        print(i, j)"
   ]
  },
  {
   "cell_type": "markdown",
   "metadata": {},
   "source": [
    "위 비교의 전체 횟수는 결국 0부터 n-1까지의 합이며, $\\frac{n(n-1)}{2}$로 나타낼 수 있다. $\\frac{1}{2}n^2-\\frac{1}{2}n$번 반복되는 것이지만, n의 제곱에 비례해서 계산 시간이 변하는 것이 핵심이므로, n의 제곱 계수나 나머지 수식은 무시하고 O($O^2$)로 나타낸다."
   ]
  },
  {
   "cell_type": "markdown",
   "metadata": {},
   "source": [
    "### 연습문제 3-1 \n",
    "n명 중 두 명을 뽑아 짝을 지을 수 있는 모든 조합을 출력하는 알고리즘을 만들라."
   ]
  },
  {
   "cell_type": "code",
   "execution_count": 9,
   "metadata": {},
   "outputs": [
    {
     "name": "stdout",
     "output_type": "stream",
     "text": [
      "Tom Jerry\n",
      "Tom Mike\n",
      "Jerry Mike\n"
     ]
    }
   ],
   "source": [
    "def pair_lst(l=[\"Nobody\"]):\n",
    "    n = len(l)\n",
    "    for i in range(n-1):\n",
    "        for j in range(i+1, n):\n",
    "            print(l[i], l[j])\n",
    "\n",
    "pair_lst([\"Tom\", \"Jerry\", \"Mike\"])"
   ]
  },
  {
   "cell_type": "markdown",
   "metadata": {},
   "source": [
    "### 연습문제 3-2\n",
    "각각 대문자 O표기법으로 표현하라"
   ]
  },
  {
   "cell_type": "markdown",
   "metadata": {},
   "source": [
    "A 66536 => O(1)  \n",
    "B $n-1$ => O(n)  \n",
    "C $\\frac{2n^3}{3}+10000n$ => O($n^2$)  \n",
    "D $3n^4-4n^3+5n^2-6n+7$ => O($n^4$)"
   ]
  }
 ],
 "metadata": {
  "kernelspec": {
   "display_name": "Python 3.7.7 64-bit",
   "language": "python",
   "name": "python3"
  },
  "language_info": {
   "codemirror_mode": {
    "name": "ipython",
    "version": 3
   },
   "file_extension": ".py",
   "mimetype": "text/x-python",
   "name": "python",
   "nbconvert_exporter": "python",
   "pygments_lexer": "ipython3",
   "version": "3.7.7"
  },
  "orig_nbformat": 4,
  "vscode": {
   "interpreter": {
    "hash": "d49c3f6d6dd49f9272b571d9fad348ab55b8c6c3f691520d74ed0af1f69c3dd8"
   }
  }
 },
 "nbformat": 4,
 "nbformat_minor": 2
}
