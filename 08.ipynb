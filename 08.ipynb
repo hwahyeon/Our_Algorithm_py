{
 "cells": [
  {
   "cell_type": "markdown",
   "metadata": {},
   "source": [
    "# 08 선택 정렬"
   ]
  },
  {
   "cell_type": "markdown",
   "metadata": {},
   "source": [
    "### 키 순서로 줄 세우기\n",
    "1. 가장 키가 작은 사람을 '선택'하여 맨 앞에 세운다.\n",
    "2. 남은 사람 중 가장 키가 작은 사람을 '선택'하여 다음 줄에 세운다.\n",
    "3. 반복"
   ]
  },
  {
   "cell_type": "code",
   "execution_count": 1,
   "metadata": {},
   "outputs": [
    {
     "name": "stdout",
     "output_type": "stream",
     "text": [
      "[1, 2, 3, 4, 5]\n"
     ]
    }
   ],
   "source": [
    "def sel_sort(a):\n",
    "    n = len(a)\n",
    "    for i in range(0, n - 1):  # 0부터 n-2까지 반복\n",
    "        # i번 위치부터 끝까지 자료 값 중 최솟값의 위치를 찾음\n",
    "        min_idx = i\n",
    "        for j in range(i + 1, n):\n",
    "            if a[j] < a[min_idx]:\n",
    "                min_idx = j\n",
    "        # 찾은 최솟값을 i번 위치로\n",
    "        a[i], a[min_idx] = a[min_idx], a[i]\n",
    "\n",
    "d = [2, 4, 5, 1, 3]\n",
    "sel_sort(d)\n",
    "print(d)"
   ]
  },
  {
   "cell_type": "markdown",
   "metadata": {},
   "source": [
    "* 자료를 크기 순서로 정렬하려면 두 수의 크기를 비교해야한다. 즉, 정렬 알고리즘의 계산 복잡도는 보통 비교 횟수를 기준으로 따진다.\n",
    "* 이 알고리즘은 비교를 $\\frac{n(n-1)}{2}$번 해야 하므로 계산 복잡도가 O($n^2$)이다. 즉, 입력 크기가 커질수록 정렬 시간이 오래 걸린다."
   ]
  },
  {
   "cell_type": "markdown",
   "metadata": {},
   "source": [
    "### 연습문제 8-1\n",
    "일반적인 선택 정렬 알고리즘을 사용하여 리스트 [2,4,5,1,3]을 정렬하는 과정을 적어보아라.\n",
    "\n",
    "* 2를 우선 min으로 두고 리스트 첫번째부터 비교해나간다.\n",
    "* 첫번째 비교에서 1이 최소값이 되었으므로, 2와 1을 교체한다.\n",
    "* 리스트 0번째를 제외하고 이를 반복한다."
   ]
  },
  {
   "cell_type": "markdown",
   "metadata": {},
   "source": [
    "### 연습문제 8-2\n",
    "위 sel_sort 함수는 숫자를 작은 수에서 큰 수 순서로 나열하는 오름차순 정렬이었다. 내림차순 정렬로 변경하라."
   ]
  },
  {
   "cell_type": "code",
   "execution_count": 2,
   "metadata": {},
   "outputs": [
    {
     "name": "stdout",
     "output_type": "stream",
     "text": [
      "[5, 4, 3, 2, 1]\n"
     ]
    }
   ],
   "source": [
    "def sel_sort_ord(a):\n",
    "    n = len(a)\n",
    "    for i in range(0, n - 1):  # 0부터 n-2까지 반복\n",
    "        # i번 위치부터 끝까지 자료 값 중 최솟값의 위치를 찾음\n",
    "        max_idx = i\n",
    "        for j in range(i + 1, n):\n",
    "            if a[j] > a[max_idx]:\n",
    "                max_idx = j\n",
    "        # 찾은 최솟값을 i번 위치로\n",
    "        a[i], a[max_idx] = a[max_idx], a[i]\n",
    "\n",
    "d = [2, 4, 5, 1, 3]\n",
    "sel_sort_ord(d)\n",
    "print(d)"
   ]
  }
 ],
 "metadata": {
  "kernelspec": {
   "display_name": "Python 3.7.7 64-bit",
   "language": "python",
   "name": "python3"
  },
  "language_info": {
   "codemirror_mode": {
    "name": "ipython",
    "version": 3
   },
   "file_extension": ".py",
   "mimetype": "text/x-python",
   "name": "python",
   "nbconvert_exporter": "python",
   "pygments_lexer": "ipython3",
   "version": "3.7.7"
  },
  "orig_nbformat": 4,
  "vscode": {
   "interpreter": {
    "hash": "d49c3f6d6dd49f9272b571d9fad348ab55b8c6c3f691520d74ed0af1f69c3dd8"
   }
  }
 },
 "nbformat": 4,
 "nbformat_minor": 2
}
