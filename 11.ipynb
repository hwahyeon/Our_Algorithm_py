{
 "cells": [
  {
   "cell_type": "markdown",
   "metadata": {},
   "source": [
    "# 11 퀵 정렬"
   ]
  },
  {
   "cell_type": "markdown",
   "metadata": {},
   "source": [
    "* 퀵 정렬은 그룹을 둘로 나눠 재귀호출하는 방식은 병합 정렬과 같다. 하지만 그룹을 나눌 때 미리 기준과 비교해서 나눈 것이 다르다."
   ]
  },
  {
   "cell_type": "markdown",
   "metadata": {},
   "source": [
    "### 퀵 정렬(Quick sort)\n",
    "* 10명의 학생 중 기준이 될 사람을 하나 뽑는다. 기준을 줄 가운데 세운 후, 기준보다 작은 사람은 왼쪽, 큰 사람은 오른쪽에 서게 한다.\n",
    "* 기준은 가만히 있고, 왼쪽 그룹은 왼쪽끼리, 오른쪽 그룹은 오른쪽끼리 다시 줄을 서면 줄서기가 끝난다."
   ]
  },
  {
   "cell_type": "code",
   "execution_count": null,
   "metadata": {},
   "outputs": [],
   "source": [
    "# 쉽게 설명한 퀵 정렬\n",
    "# 입력: 리스트 a\n",
    "# 출력: 정렬된 새 리스트\n",
    "\n",
    "def quick_sort(a):\n",
    "    n = len(a)\n",
    "    # 종료 조건: 정렬할 리스트의 자료 개수가 한 개 이하이면 정렬할 필요가 없음\n",
    "    if n <= 1:\n",
    "        return a\n",
    "    # 기준 값을 정하고 기준에 맞춰 그룹을 나누는 과정\n",
    "    pivot = a[-1]  # 편의상 리스트의 마지막 값을 기준 값으로 정함\n",
    "    g1 = []  # 그룹 1: 기준 값보다 작은 값을 담을 리스트\n",
    "    g2 = []  # 그룹 2: 기준 값보다 큰 값을 담을 리스트\n",
    "    for i in range(0, n - 1):  # 마지막 값은 기준 값이므로 제외\n",
    "        if a[i] < pivot:    # 기준 값과 비교\n",
    "            g1.append(a[i]) # 작으면 g1에 추가\n",
    "        else:\n",
    "            g2.append(a[i]) # 크면 g2에 추가\n",
    "    # 각 그룹에 대해 재귀 호출로 퀵 정렬을 한 후\n",
    "    # 기준 값과 합쳐 하나의 리스트로 결괏값 반환\n",
    "    return quick_sort(g1) + [pivot] + quick_sort(g2)\n",
    "\n",
    "d = [6, 8, 3, 9, 10, 1, 2, 4, 7, 5]\n",
    "print(quick_sort(d))"
   ]
  },
  {
   "cell_type": "code",
   "execution_count": null,
   "metadata": {},
   "outputs": [],
   "source": [
    "# 퀵 정렬\n",
    "# 입력: 리스트 a\n",
    "# 출력: 없음(입력으로 주어진 a가 정렬됨)\n",
    "# 리스트 a의 어디부터(start) 어디까지(end)가 정렬 대상인지\n",
    "# 범위를 지정하여 정렬하는 재귀 호출 함수\n",
    "def quick_sort_sub(a, start, end):\n",
    "    # 종료 조건: 정렬 대상이 1개 이하면 정렬할 필요 없음\n",
    "    if end - start <= 0:\n",
    "        return\n",
    "    # 기준 값을 정하고 기준 값에 맞춰 리스트 안에서 각 자료의 위치를 맞춤\n",
    "    # [기준 값보다 작은 값들, 기준 값, 기준 값보다 큰 값들]\n",
    "    pivot = a[end]    # 편의상 리스트의 마지막 값을 기준 값으로 정합\n",
    "    i = start\n",
    "    for j in range(start, end):\n",
    "        if a[j] <= pivot:\n",
    "            a[i], a[j] = a[j], a[i]\n",
    "            i += 1\n",
    "    a[i], a[end] = a[end], a[i]\n",
    "    # 재귀 호출 부분\n",
    "    quick_sort_sub(a, start, i - 1) # 기준 값보다 작은 그룹을 재귀 호출로 다시 정렬\n",
    "    quick_sort_sub(a, i + 1, end)   # 기준 값보다 큰 그룹을 재귀 호출로 다시 정렬\n",
    "\n",
    "# 리스트 전체(0 ~ len(a)-1)를 대상으로 재귀 호출 함수 호출\n",
    "def quick_sort(a):\n",
    "    quick_sort_sub(a, 0, len(a) - 1)\n",
    "\n",
    "d = [6, 8, 3, 9, 10, 1, 2, 4, 7, 5]\n",
    "quick_sort(d)\n",
    "print(d)"
   ]
  },
  {
   "cell_type": "markdown",
   "metadata": {},
   "source": [
    "* 기준 값이 가장 큰 값이었다면, 그룹을 둘로 나눈 의미가 없어져 효율이 낮아진다. 좋은 기준 값을 구하는 알고리즘에 관해서는 많은 연구가 되어 있다.\n",
    "* 퀵 정렬의 계산 복잡도는 최악의 경우 O($n^2$), 평균적인 경우 병합 정렬과 같은 O(n logn)이다."
   ]
  },
  {
   "cell_type": "markdown",
   "metadata": {},
   "source": [
    "### 연습문제 11-1\n",
    "거품 정렬(Bubble sort)로 [2, 4, 5, 1, 3]이 정렬되는 과정을 알고리즘으로 적어보아라."
   ]
  },
  {
   "cell_type": "markdown",
   "metadata": {},
   "source": [
    "### 거품 정렬\n",
    "* 1. 아무렇게나 세워진 학생 줄을, 선생이 맨 앞에서부터 뒤로 이동하면서 이웃한 앞뒤 학생의 키를 서로 비교한다. 앞의 학생의 키가 뒤의 학생의 키보다 크면 두 학생의 자리를 바꾼다.\n",
    "* 2. 선생은 계속 뒤로 이동하고, 이웃한 앞뒤 학생의 키를 비교하여 1번을 반복한다.\n",
    "* 3. 모든 학생이 키 순서대로 줄을 설 때까지 반복한다. 즉, 시작부터 끝까지 자리 변경이 일어나지 않으면 줄을 제대로 선 것이다.\n",
    "\n",
    "<img src = \"./image/110.jpg\" height = 70% width = 70%>  \n",
    "* 원리 : 앞뒤로 이웃한 자료를 비교 -> 크기가 뒤집힌 경우 서로 위치 변경"
   ]
  },
  {
   "cell_type": "code",
   "execution_count": null,
   "metadata": {},
   "outputs": [],
   "source": [
    "# 거품 정렬\n",
    "# 입력: 리스트 a\n",
    "# 출력: 없음(입력으로 주어진 a가 정렬됨)\n",
    "\n",
    "def bubble_sort(a):\n",
    "    n = len(a)\n",
    "    while True:  # 정렬이 완료될 때까지 계속 수행\n",
    "        changed = False  # 자료를 앞뒤로 바꾸었는지 여부\n",
    "        # 자료를 훑어 보면서 뒤집힌 자료가 있으면 바꾸고 바뀌었다고 표시\n",
    "        for i in range(0, n - 1):\n",
    "            if a[i] > a[i + 1]: # 앞이 뒤보다 크면\n",
    "                print(a)        # 정렬 과정 출력(참고용)\n",
    "                a[i], a[i + 1] = a[i + 1], a[i]  # 두 자료의 위치를 맞바꿈\n",
    "                changed = True  # 자료가 앞뒤로 바뀌었음을 기록\n",
    "        # 자료를 한 번 훑어보는 동안 바뀐 적이 없다면 정렬이 완성된 것이므로 종료\n",
    "        # 바뀐 적이 있으면 다시 앞에서부터 비교 반복\n",
    "        if changed == False:\n",
    "            return\n",
    "\n",
    "d = [2, 4, 5, 1, 3]\n",
    "bubble_sort(d)\n",
    "print(d)"
   ]
  },
  {
   "cell_type": "markdown",
   "metadata": {},
   "source": [
    "* 거품 정렬의 입력이 정렬된 리스트라면, 정렬이 바로 종료된다. 즉, 이런 최선의 경우일 때는 계산 복잡도는 O(n)이다.\n",
    "* 정렬되지 않은 일반적인 리스트인 경우 계산 복잡도는 O($n^2$)이다. 그러나, 거품 정렬은 자료 위치를 서로 바꾸는 횟수가 선택 정렬이나 삽입 정렬보다 많기 때문에 실제로 더 느리게 동작한다는 단점이 있다."
   ]
  },
  {
   "cell_type": "markdown",
   "metadata": {},
   "source": [
    "### 그림으로 보는 정렬 알고리즘\n",
    "* 선택 정렬  \n",
    "* 남은 자료 중에서 최솟값을 뽑아 차례로 배치\n",
    "<img src = \"./image/111.jpg\" height = 70% width = 70%>  \n",
    "* 삽입 정렬  \n",
    "* 자료를 하나씩 적절한 위치에 삽입  \n",
    "<img src = \"./image/112.jpg\" height = 70% width = 70%> \n",
    "* 병합 정렬  \n",
    "* 그룹으로 나누고, 그룹별로 각각 정렬(재귀) 후 병합  \n",
    "<img src = \"./image/113.jpg\" height = 70% width = 70%> \n",
    "* 퀵 정렬  \n",
    "* 기준으로 그룹을 나누고, 그룹별로 각각 정렬(재귀)  \n",
    "<img src = \"./image/114.jpg\" height = 70% width = 70%> "
   ]
  },
  {
   "cell_type": "markdown",
   "metadata": {},
   "source": [
    "### 파이썬의 정렬\n",
    "* sorted(list) : 리스트를 정렬한 새 리스트를 돌려줌.\n",
    "* list.sort() : 정렬 대상이 되는 리스트 자체의 순서를 정렬함.\n",
    "* 표준 파이썬의 정렬은 팀 피터스(Tim Peters)가 만든 Timsort라는 알고리즘을 이용해 정렬한다."
   ]
  }
 ],
 "metadata": {
  "kernelspec": {
   "display_name": "Python 3.7.7 64-bit",
   "language": "python",
   "name": "python3"
  },
  "language_info": {
   "name": "python",
   "version": "3.7.7"
  },
  "orig_nbformat": 4,
  "vscode": {
   "interpreter": {
    "hash": "d49c3f6d6dd49f9272b571d9fad348ab55b8c6c3f691520d74ed0af1f69c3dd8"
   }
  }
 },
 "nbformat": 4,
 "nbformat_minor": 2
}
