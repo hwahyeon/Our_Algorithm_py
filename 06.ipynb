{
 "cells": [
  {
   "cell_type": "markdown",
   "metadata": {},
   "source": [
    "# 06 하노이의 탑 옮기기"
   ]
  },
  {
   "cell_type": "markdown",
   "metadata": {},
   "source": [
    "### 하노이의 탑 규칙\n",
    "* 원반은 한 번에 한 개씩만 옮길 수 있다.\n",
    "* 각 기둥 맨 위 원반을 다른 기둥 맨 위로만 옮길 수 있다.\n",
    "* 큰 원반을 작은 원반 위에 올려선 안 된다."
   ]
  },
  {
   "cell_type": "markdown",
   "metadata": {},
   "source": [
    "## 하노이의 탑 풀이\n",
    "### 원반이 한 개일 때\n",
    "* 1번 기둥 원반을 3번으로 옮김\n",
    "  \n",
    "### 원반이 두 개일 때\n",
    "1. 1번 -> 2번\n",
    "2. 1번 -> 3번\n",
    "3. 2번 -> 3번\n",
    "  \n",
    "### 원반이 세 개일 때\n",
    "1. 1번 -> 3번\n",
    "2. 1번 -> 2번\n",
    "3. 3번 -> 1번\n",
    "4. 1번 -> 3번\n",
    "5. 2번 -> 1번\n",
    "6. 2번 -> 3번\n",
    "7. 1번 -> 3번\n",
    "  \n",
    "### 원반이 n개일 때\n",
    "1. 1번의 n-1을 2번 기둥으로 옮김\n",
    "2. 1번에 남아 있는 가장 큰 원반을 3번으로\n",
    "3. 2번의 n-1개 원반을 3번으로"
   ]
  },
  {
   "cell_type": "markdown",
   "metadata": {},
   "source": [
    "## 하노이 탑 알고리즘\n",
    "* 1-A. 원반이 한 개면 그냥 옮김.\n",
    "* 1-B. 원반이 n개면\n",
    "* B-1. 1번 기둥에서 n-1을 2번으로 옮김 (3번 기둥을 보조로 사용)\n",
    "* B-2. 1번에 남은 원반을 3번으로\n",
    "* B-3. 2번 기둥에 있는 n-1개 원반을 3번으로 옮김(1번 기둥을 보조로 사용)"
   ]
  },
  {
   "cell_type": "code",
   "execution_count": 1,
   "metadata": {},
   "outputs": [
    {
     "name": "stdout",
     "output_type": "stream",
     "text": [
      "n = 1\n",
      "1 -> 3\n",
      "n = 2\n",
      "1 -> 2\n",
      "1 -> 3\n",
      "2 -> 3\n",
      "n = 3\n",
      "1 -> 3\n",
      "1 -> 2\n",
      "3 -> 2\n",
      "1 -> 3\n",
      "2 -> 1\n",
      "2 -> 3\n",
      "1 -> 3\n"
     ]
    }
   ],
   "source": [
    "# 하노이의 탑\n",
    "# 입력: 옮기려는 원반의 갯수 n\n",
    "#      옮길 원반이 현재 있는 출발점 기둥 from_pos\n",
    "#      원반을 옮길 도착점 기둥 to_pos\n",
    "#      옮기는 과정에서 사용할 보조 기둥 aux_pos\n",
    "# 출력: 원반을 옮기는 순서 \n",
    "\n",
    "def hanoi(n, from_pos, to_pos, aux_pos):\n",
    "    if n == 1:\n",
    "        print(from_pos, \"->\", to_pos)\n",
    "        return\n",
    "    # 원반 n - 1개를 aux_pos로 이동(to_pos를 보조 기둥으로)\n",
    "    hanoi(n - 1, from_pos, aux_pos, to_pos)\n",
    "    # 가장 큰 원반을 목적지로 이동\n",
    "    print(from_pos, \"->\", to_pos)\n",
    "    # aux_pos에 있는 원반 n-1개를 목적지로 이동(from_pos를 보조 기둥으로)\n",
    "    hanoi(n - 1, aux_pos, to_pos, from_pos)\n",
    "\n",
    "print(\"n = 1\")\n",
    "hanoi(1, 1, 3, 2)  # 원반 한 개를 1번 기둥에서 3번 기둥으로 이동(2번을 보조 기둥으로)\n",
    "print(\"n = 2\")\n",
    "hanoi(2, 1, 3, 2)  # 원반 두 개를 1번 기둥에서 3번 기둥으로 이동(2번을 보조 기둥으로)\n",
    "print(\"n = 3\")\n",
    "hanoi(3, 1, 3, 2) # 원반 세 개를 1번 기둥에서 3번 기둥으로 이동(2번을 보조 기둥으로)"
   ]
  },
  {
   "cell_type": "markdown",
   "metadata": {},
   "source": [
    "* n층 짜리 하노이의 탑을 옮기려면 원반을 $2^n - 1$번 옮겨야 한다. 즉 O($2^n$)이다."
   ]
  },
  {
   "cell_type": "markdown",
   "metadata": {},
   "source": [
    "### 연습문제 6-1\n",
    "재귀 호출로 만든 컴퓨터 그래픽을 보고 이것이 어떻게 가능한 지 상상해보라."
   ]
  },
  {
   "cell_type": "markdown",
   "metadata": {},
   "source": [
    "### 부록D 재귀 호출을 이용한 그림 그리기"
   ]
  },
  {
   "cell_type": "code",
   "execution_count": null,
   "metadata": {},
   "outputs": [],
   "source": [
    "# 재귀 호출을 이용한 사각 나선 그리기\n",
    "import turtle as t\n",
    "\n",
    "def spiral(sp_len):\n",
    "    if sp_len <= 5:\n",
    "        return\n",
    "    t.forward(sp_len)\n",
    "    t.right(90)\n",
    "    spiral(sp_len - 5)\n",
    "\n",
    "t.speed(0)\n",
    "spiral(200)\n",
    "t.hideturtle()\n",
    "t.done()"
   ]
  },
  {
   "cell_type": "code",
   "execution_count": null,
   "metadata": {},
   "outputs": [],
   "source": [
    "# 재귀 호출을 이용한 시에르핀스키(Sierpinski)의 삼각형 그리기\n",
    "import turtle as t\n",
    "\n",
    "def tri(tri_len):\n",
    "    if tri_len <= 10:\n",
    "        for i in range(0, 3):\n",
    "            t.forward(tri_len)\n",
    "            t.left(120)\n",
    "        return\n",
    "    new_len = tri_len / 2\n",
    "    tri(new_len)\n",
    "    t.forward(new_len)\n",
    "    tri(new_len)\n",
    "    t.backward(new_len)\n",
    "    t.left(60)\n",
    "    t.forward(new_len)\n",
    "    t.right(60)\n",
    "    tri(new_len)\n",
    "    t.left(60)\n",
    "    t.backward(new_len)\n",
    "    t.right(60)\n",
    "\n",
    "t.speed(0)\n",
    "tri(160)\n",
    "t.hideturtle()\n",
    "t.done()"
   ]
  },
  {
   "cell_type": "code",
   "execution_count": null,
   "metadata": {},
   "outputs": [],
   "source": [
    "# 재귀 호출을 이용한 나무 모형 그리기\n",
    "import turtle as t\n",
    "\n",
    "def tree(br_len):\n",
    "    if br_len <= 5:\n",
    "        return\n",
    "    new_len = br_len * 0.7\n",
    "    t.forward(br_len)\n",
    "    t.right(20)\n",
    "    tree(new_len)\n",
    "    t.left(40)\n",
    "    tree(new_len)\n",
    "    t.right(20)\n",
    "    t.backward(br_len)\n",
    "\n",
    "t.speed(0)\n",
    "t.left(90)\n",
    "tree(70)\n",
    "t.hideturtle()\n",
    "t.done()"
   ]
  },
  {
   "cell_type": "code",
   "execution_count": null,
   "metadata": {},
   "outputs": [],
   "source": [
    "# 재귀 호출을 이용한 눈꽃 그리기\n",
    "import turtle as t\n",
    "\n",
    "def snow_line(snow_len):\n",
    "    if snow_len <= 10:\n",
    "        t.forward(snow_len)\n",
    "        return\n",
    "    new_len = snow_len / 3\n",
    "    snow_line(new_len)\n",
    "    t.left(60)\n",
    "    snow_line(new_len)\n",
    "    t.right(120)\n",
    "    snow_line(new_len)\n",
    "    t.left(60)\n",
    "    snow_line(new_len)\n",
    "\n",
    "t.speed(0)\n",
    "snow_line(150)\n",
    "t.right(120)\n",
    "snow_line(150)\n",
    "t.right(120)\n",
    "snow_line(150)\n",
    "t.hideturtle()\n",
    "t.done()"
   ]
  }
 ],
 "metadata": {
  "kernelspec": {
   "display_name": "Python 3.7.7 64-bit",
   "language": "python",
   "name": "python3"
  },
  "language_info": {
   "codemirror_mode": {
    "name": "ipython",
    "version": 3
   },
   "file_extension": ".py",
   "mimetype": "text/x-python",
   "name": "python",
   "nbconvert_exporter": "python",
   "pygments_lexer": "ipython3",
   "version": "3.7.7"
  },
  "orig_nbformat": 4,
  "vscode": {
   "interpreter": {
    "hash": "d49c3f6d6dd49f9272b571d9fad348ab55b8c6c3f691520d74ed0af1f69c3dd8"
   }
  }
 },
 "nbformat": 4,
 "nbformat_minor": 2
}
