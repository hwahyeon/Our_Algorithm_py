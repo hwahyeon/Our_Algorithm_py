{
 "cells": [
  {
   "cell_type": "markdown",
   "metadata": {},
   "source": [
    "# 06 하노이의 탑 옮기기"
   ]
  },
  {
   "cell_type": "markdown",
   "metadata": {},
   "source": [
    "### 하노이의 탑 규칙\n",
    "* 원반은 한 번에 한 개씩만 옮길 수 있다.\n",
    "* 각 기둥 맨 위 원반을 다른 기둥 맨 위로만 옮길 수 있다.\n",
    "* 큰 원반을 작은 원반 위에 올려선 안 된다."
   ]
  },
  {
   "cell_type": "markdown",
   "metadata": {},
   "source": [
    "## 하노이의 탑 풀이\n",
    "### 원반이 한 개일 때\n",
    "* 1번 기둥 원반을 3번으로 옮김\n",
    "  \n",
    "### 원반이 두 개일 때\n",
    "1. 1번 -> 2번\n",
    "2. 1번 -> 3번\n",
    "3. 2번 -> 3번\n",
    "  \n",
    "### 원반이 세 개일 때\n",
    "1. 1번 -> 3번\n",
    "2. 1번 -> 2번\n",
    "3. 3번 -> 1번\n",
    "4. 1번 -> 3번\n",
    "5. 2번 -> 1번\n",
    "6. 2번 -> 3번\n",
    "7. 1번 -> 3번\n",
    "  \n",
    "### 원반이 n개일 때\n"
   ]
  }
 ],
 "metadata": {
  "kernelspec": {
   "display_name": "Python 3.7.7 64-bit",
   "language": "python",
   "name": "python3"
  },
  "language_info": {
   "name": "python",
   "version": "3.7.7"
  },
  "orig_nbformat": 4,
  "vscode": {
   "interpreter": {
    "hash": "d49c3f6d6dd49f9272b571d9fad348ab55b8c6c3f691520d74ed0af1f69c3dd8"
   }
  }
 },
 "nbformat": 4,
 "nbformat_minor": 2
}
