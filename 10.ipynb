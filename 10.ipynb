{
 "cells": [
  {
   "cell_type": "markdown",
   "metadata": {},
   "source": [
    "#10 병합 정렬"
   ]
  },
  {
   "cell_type": "markdown",
   "metadata": {},
   "source": [
    "### 병합 정렬(Merge sort)\n",
    "* 10명의 학생을 5명씩 나눠 그 안에서 키 순서로 줄을 세워, 키 순서로 정렬된 두 줄을 만든다.\n",
    "* 각 줄의 맨 앞의 학생들끼리 키를 구별하여 더 작은 이를 최종 결과에 넣는다. 그 후 반복한다.\n",
    "* 반복하다가 각 줄의 한 줄이 모두 사라지면 나머지 줄을 최종 결과 줄 뒤에 세운다."
   ]
  },
  {
   "cell_type": "markdown",
   "metadata": {},
   "source": [
    "<img src = \"./image/100.jpg\" height = 70% width = 70%>"
   ]
  },
  {
   "cell_type": "code",
   "execution_count": 1,
   "metadata": {},
   "outputs": [
    {
     "name": "stdout",
     "output_type": "stream",
     "text": [
      "[1, 2, 3, 4, 5, 6, 7, 8, 9, 10]\n"
     ]
    }
   ],
   "source": [
    "# 쉽게 설명한 병합 정렬\n",
    "# 입력: 리스트 a\n",
    "# 출력: 정렬된 새 리스트\n",
    "\n",
    "def merge_sort(a):\n",
    "    n = len(a)\n",
    "    # 종료 조건: 정렬할 리스트의 자료 개수가 한 개 이하이면 정렬할 필요 없음\n",
    "    if n <= 1:\n",
    "        return a\n",
    "    # 그룹을 나누어 각각 병합 정렬을 호출하는 과정\n",
    "    mid = n // 2  # 중간을 기준으로 두 그룹으로 나눔\n",
    "    g1 = merge_sort(a[:mid]) # 재귀 호출로 첫 번째 그룹을 정렬\n",
    "    g2 = merge_sort(a[mid:]) # 재귀 호출로 두 번째 그룹을 정렬\n",
    "    # 두 그룹을 하나로 병합\n",
    "    result = []       # 두 그룹을 합쳐 만들 최종 결과\n",
    "    while g1 and g2:  # 두 그룹에 모두 자료가 남아 있는 동안 반복\n",
    "        if g1[0] < g2[0]: # 두 그룹의 맨 앞 자료 값을 비교\n",
    "            # g1의 값이 더 작으면 그 값을 빼내어 결과로 추가\n",
    "            result.append(g1.pop(0))\n",
    "        else:\n",
    "            # g2의 값이 더 작으면 그 값을 빼내어 결과로 추가\n",
    "            result.append(g2.pop(0))\n",
    "    # 아직 남아 있는 자료들을 결과에 추가\n",
    "    # g1과 g2 중 이미 빈 것은 while을 바로 지나감\n",
    "    while g1:\n",
    "        result.append(g1.pop(0))\n",
    "    while g2:\n",
    "        result.append(g2.pop(0))\n",
    "    return result\n",
    "\n",
    "d = [6, 8, 3, 9, 10, 1, 2, 4, 7, 5]\n",
    "print(merge_sort(d))"
   ]
  },
  {
   "cell_type": "code",
   "execution_count": 2,
   "metadata": {},
   "outputs": [
    {
     "name": "stdout",
     "output_type": "stream",
     "text": [
      "[1, 2, 3, 4, 5, 6, 7, 8, 9, 10]\n"
     ]
    }
   ],
   "source": [
    "# 병합 정렬\n",
    "# 입력: 리스트 a\n",
    "# 출력: 없음(입력으로 주어진 a가 정렬됨)\n",
    "\n",
    "def merge_sort(a):\n",
    "    n = len(a)\n",
    "    # 종료 조건: 정렬할 리스트의 자료 개수가 한 개 이하이면 정렬할 필요가 없음\n",
    "    if n <= 1:\n",
    "        return\n",
    "    # 그룹을 나누어 각각 병합 정렬을 호출하는 과정\n",
    "    mid = n // 2  # 중간을 기준으로 두 그룹으로 나눔\n",
    "    g1 = a[:mid]\n",
    "    g2 = a[mid:]\n",
    "    merge_sort(g1)  # 재귀 호출로 첫 번째 그룹을 정렬\n",
    "    merge_sort(g2)  # 재귀 호출로 두 번째 그룹을 정렬\n",
    "    # 두 그룹을 하나로 병합\n",
    "    i1 = 0\n",
    "    i2 = 0\n",
    "    ia = 0\n",
    "    while i1 < len(g1) and i2 < len(g2):\n",
    "        if g1[i1] < g2[i2]:\n",
    "            a[ia] = g1[i1]\n",
    "            i1 += 1\n",
    "            ia += 1\n",
    "        else:\n",
    "            a[ia] = g2[i2]\n",
    "            i2 += 1\n",
    "            ia += 1\n",
    "    # 아직 남아 있는 자료들을 결과에 추가\n",
    "    while i1 < len(g1):\n",
    "        a[ia] = g1[i1]\n",
    "        i1 += 1\n",
    "        ia += 1\n",
    "    while i2 < len(g2):\n",
    "        a[ia] = g2[i2]\n",
    "        i2 += 1\n",
    "        ia += 1\n",
    "\n",
    "d = [6, 8, 3, 9, 10, 1, 2, 4, 7, 5]\n",
    "merge_sort(d)\n",
    "print(d)"
   ]
  },
  {
   "cell_type": "markdown",
   "metadata": {},
   "source": [
    "### 분석\n",
    "* 위처럼 큰 문제를 작게 분할하여 푸는 방법을 분할 정복(divide and conquer)라고 한다.\n",
    "* 분할 정복을 이용한 병합 정렬의 계산 복잡도는 O(n logn)이다."
   ]
  },
  {
   "cell_type": "markdown",
   "metadata": {},
   "source": [
    "### 연습문제 10-1\n",
    "위 프로그램을 내림차순 정렬로 바꾸려면 어느 부분을 바꿔야 하는가?"
   ]
  },
  {
   "cell_type": "markdown",
   "metadata": {},
   "source": [
    "`if g1[i1] > g2[i2]:`로 변경하면 된다."
   ]
  },
  {
   "cell_type": "code",
   "execution_count": 3,
   "metadata": {},
   "outputs": [
    {
     "name": "stdout",
     "output_type": "stream",
     "text": [
      "[10, 9, 8, 7, 6, 5, 4, 3, 2, 1]\n"
     ]
    }
   ],
   "source": [
    "def merge_sort(a):\n",
    "    n = len(a)\n",
    "    if n <= 1:\n",
    "        return\n",
    "    mid = n // 2\n",
    "    g1 = a[:mid]\n",
    "    g2 = a[mid:]\n",
    "    merge_sort(g1)\n",
    "    merge_sort(g2)\n",
    "    i1 = 0\n",
    "    i2 = 0\n",
    "    ia = 0\n",
    "    while i1 < len(g1) and i2 < len(g2):\n",
    "        if g1[i1] > g2[i2]:\n",
    "            a[ia] = g1[i1]\n",
    "            i1 += 1\n",
    "            ia += 1\n",
    "        else:\n",
    "            a[ia] = g2[i2]\n",
    "            i2 += 1\n",
    "            ia += 1\n",
    "    while i1 < len(g1):\n",
    "        a[ia] = g1[i1]\n",
    "        i1 += 1\n",
    "        ia += 1\n",
    "    while i2 < len(g2):\n",
    "        a[ia] = g2[i2]\n",
    "        i2 += 1\n",
    "        ia += 1\n",
    "\n",
    "d = [6, 8, 3, 9, 10, 1, 2, 4, 7, 5]\n",
    "merge_sort(d)\n",
    "print(d)"
   ]
  },
  {
   "cell_type": "markdown",
   "metadata": {},
   "source": [
    "### 로그(log)와 지수(exponent)\n",
    "* $2^5 = 32$에서 2를 밑(base), 5를 지수(exponent)라 한다. 즉, 2를 다섯 번 곱한 값이 32라는 뜻이다.\n",
    "* 이와 반대로 로그는 2를 몇 번 제곱해야 32가 되는지를 구하는 것이다. $log_2 32 = 5$로 표현할 수 있다.\n",
    "* 컴퓨터 과학에서는 밑이 2인 로그를 줄여서 log나 lg로 표현하기도 한다."
   ]
  }
 ],
 "metadata": {
  "kernelspec": {
   "display_name": "Python 3.7.7 64-bit",
   "language": "python",
   "name": "python3"
  },
  "language_info": {
   "codemirror_mode": {
    "name": "ipython",
    "version": 3
   },
   "file_extension": ".py",
   "mimetype": "text/x-python",
   "name": "python",
   "nbconvert_exporter": "python",
   "pygments_lexer": "ipython3",
   "version": "3.7.7"
  },
  "orig_nbformat": 4,
  "vscode": {
   "interpreter": {
    "hash": "d49c3f6d6dd49f9272b571d9fad348ab55b8c6c3f691520d74ed0af1f69c3dd8"
   }
  }
 },
 "nbformat": 4,
 "nbformat_minor": 2
}
