{
 "cells": [
  {
   "cell_type": "markdown",
   "metadata": {},
   "source": [
    "# 17 가짜 동전 찾기 알고리즘"
   ]
  },
  {
   "cell_type": "markdown",
   "metadata": {},
   "source": [
    "### 순차 탐색 방법\n",
    "* 겉보기에는 똑같은 동전이 n개 있다. 이 중 한 개는 싸고 가벼운 재료로 만들어진 '가짜 동전'이다. 좌우 무게를 비교할 수 있는 저울을 이용하여 가짜 동전을 찾는 알고리즘을 만들어라.\n",
    "* 모델링1: 동전 개수는 n개이므로 왼쪽부터 오른쪽으로 동전을 일렬 나열하여 0번부터 n-1번까지 번호를 매길 수 있다.\n",
    "* 모델링2: 그 후 동전을 4개씩 가져와서 비교한다. (b-a == d-c)\n",
    "* 계산 복잡도 O(n)"
   ]
  },
  {
   "cell_type": "code",
   "execution_count": 1,
   "metadata": {},
   "outputs": [
    {
     "name": "stdout",
     "output_type": "stream",
     "text": [
      "29\n"
     ]
    }
   ],
   "source": [
    "# 주어진 동전 n개 중에 가짜 동전(fake)을 찾아내는 알고리즘\n",
    "# 입력: 전체 동전 위치의 시작과 끝(0, n - 1)\n",
    "# 출력: 가짜 동전의 위치 번호\n",
    "\n",
    "# 무게 재기 함수\n",
    "# a에서 b까지 놓인 동전과\n",
    "# c에서 d까지 놓인 동전의 무게를 비교\n",
    "# a에서 b까지에 가짜 동전이 있으면(가벼우면): -1\n",
    "# c에서 d까지에 가짜 동전이 있으면(가벼우면): 1\n",
    "# 가짜 동전이 없으면(양쪽 무게가 같으면): 0\n",
    "def weigh(a, b, c, d):\n",
    "    fake = 29  # 가짜 동전의 위치(알고리즘은 weigh 함수를 이용하여 이 값을 맞혀야 함)\n",
    "    if a <= fake and fake <= b:\n",
    "        return -1\n",
    "    if c <= fake and fake <= d:\n",
    "        return 1\n",
    "    return 0\n",
    "\n",
    "# weigh 함수(저울질)를 이용하여\n",
    "# left와 right까지에 있는 가짜 동전의 위치를 찾아냄\n",
    "def find_fakecoin(left, right):\n",
    "    for i in range(left + 1, right + 1):  # left+1부터 right까지 반복\n",
    "        # 가장 왼쪽 동전과 나머지 동전을 차례로 비교\n",
    "        result = weigh(left, left, i, i)\n",
    "        if result == -1:   # left 동전이 가벼움(left 동전이 가짜)\n",
    "            return left\n",
    "        elif result == 1:  # i 동전이 가벼움(i 동전이 가짜)\n",
    "            return i\n",
    "        # 두 동전의 무게가 같으면 다음 동전으로\n",
    "\n",
    "    # 모든 동전의 무게가 같으면 가짜 동전이 없는 예외 경우\n",
    "    return -1\n",
    "\n",
    "n = 100    # 전체 동전 개수\n",
    "print(find_fakecoin(0, n - 1))\n"
   ]
  },
  {
   "cell_type": "markdown",
   "metadata": {},
   "source": [
    "### 이진 탐색 방법\n",
    "* 계산 복잡도 O(logn)"
   ]
  },
  {
   "cell_type": "code",
   "execution_count": 2,
   "metadata": {},
   "outputs": [
    {
     "name": "stdout",
     "output_type": "stream",
     "text": [
      "29\n"
     ]
    }
   ],
   "source": [
    "# 주어진 동전 n개 중에 가짜 동전(fake)을 찾아내는 알고리즘\n",
    "# 입력: 전체 동전 위치의 시작과 끝(0, n - 1)\n",
    "# 출력: 가짜 동전의 위치 번호\n",
    "\n",
    "# 무게 재기 함수\n",
    "def weigh(a, b, c, d):\n",
    "    fake = 29  # 가짜 동전의 위치(알고리즘은 weigh() 함수를 이용하여 이 값을 맞혀야 함)\n",
    "    if a <= fake and fake <= b:\n",
    "        return -1\n",
    "    if c <= fake and fake <= d:\n",
    "        return 1\n",
    "    return 0\n",
    "\n",
    "# weigh() 함수(저울질)를 이용하여\n",
    "# left와 right까지에 놓인 가짜 동전의 위치를 찾아냄\n",
    "def find_fakecoin(left, right):\n",
    "    # 종료 조건 : 가짜 동전이 있을 범위 안에 동전이 한 개뿐이면 그 동전이 가짜 동전임\n",
    "    if left == right:\n",
    "        return left\n",
    "    # left와 right까지에 놓인 동전을 두 그룹(g1_left~g1_right, g2_left~g2_right)으로 나눔\n",
    "    # 동전 수가 홀수면 두 그룹으로 나누고 한 개가 남음\n",
    "    half = (right - left + 1) // 2\n",
    "    g1_left = left\n",
    "    g1_right = left + half - 1\n",
    "    g2_left = left + half\n",
    "    g2_right = g2_left + half - 1\n",
    "    # 나눠진 두 그룹을 weigh() 함수를 이용하여 저울질함\n",
    "    result = weigh(g1_left, g1_right, g2_left, g2_right)\n",
    "    if result == -1:  # 그룹 1이 가벼움(가짜 동전이 이 그룹에 있음)\n",
    "        return find_fakecoin(g1_left, g1_right)  # 그룹 1 범위를 재귀 호출로 다시 조사\n",
    "    elif result == 1:  # 그룹 2가 가벼움(가짜 동전이 이 그룹에 있음)\n",
    "        return find_fakecoin(g2_left, g2_right)  # 그룹 2 범위를 재귀 호출로 다시 조사\n",
    "    else:  # 두 그룹의 무게가 같으면(나뉜 두 그룹 안에 가짜 동전이 없다면)\n",
    "        return right  # 두 그룹으로 나뉘지 않고 남은 나머지 한 개의 동전이 가짜\n",
    "\n",
    "n = 100    # 전체 동전 개수\n",
    "print(find_fakecoin(0, n - 1))\n"
   ]
  },
  {
   "cell_type": "markdown",
   "metadata": {},
   "source": [
    "* 주어진 동전을 세 그룹으로 나누면 O($log_3 n$)으로도 가짜 동전을 찾을 수 있다. 물론 이 경우에도 O(logn)이다."
   ]
  }
 ],
 "metadata": {
  "kernelspec": {
   "display_name": "Python 3.7.7 64-bit",
   "language": "python",
   "name": "python3"
  },
  "language_info": {
   "codemirror_mode": {
    "name": "ipython",
    "version": 3
   },
   "file_extension": ".py",
   "mimetype": "text/x-python",
   "name": "python",
   "nbconvert_exporter": "python",
   "pygments_lexer": "ipython3",
   "version": "3.7.7"
  },
  "orig_nbformat": 4,
  "vscode": {
   "interpreter": {
    "hash": "d49c3f6d6dd49f9272b571d9fad348ab55b8c6c3f691520d74ed0af1f69c3dd8"
   }
  }
 },
 "nbformat": 4,
 "nbformat_minor": 2
}
