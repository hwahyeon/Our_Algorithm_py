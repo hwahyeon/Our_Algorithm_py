{
 "cells": [
  {
   "cell_type": "markdown",
   "metadata": {},
   "source": [
    "# 14 동명이인 찾기 ②"
   ]
  },
  {
   "cell_type": "code",
   "execution_count": null,
   "metadata": {},
   "outputs": [],
   "source": [
    "# 딕셔너리 초기화\n",
    "d = {}\n",
    "d = dict()\n",
    "\n",
    "# 집합 초기화\n",
    "s = set()"
   ]
  },
  {
   "cell_type": "markdown",
   "metadata": {},
   "source": [
    "* 딕셔너리에는 키가 중복되지 않으며, 존재하는 키에 새 값을 넣으면 덮어쓰기가 된다."
   ]
  },
  {
   "cell_type": "markdown",
   "metadata": {},
   "source": [
    "### 딕셔너리 기능\n",
    "|함수|설명|\n",
    "|---|---|\n",
    "|del d[key]|key에 해당하는 값을 지움|\n",
    "|clear()|딕셔너리 모든 자료 지움|\n",
    "|key in d|key가 딕셔너리 d에 있는지 확인|\n",
    "|key not in d|key가 딕셔너리 d에 없는지 확인|"
   ]
  },
  {
   "cell_type": "code",
   "execution_count": 1,
   "metadata": {},
   "outputs": [
    {
     "name": "stdout",
     "output_type": "stream",
     "text": [
      "{'Tom'}\n",
      "{'Tom', 'Mike'}\n"
     ]
    }
   ],
   "source": [
    "# 03.ipynb 에서의 방법(리스트)를 활용한 두 번 이상 나온 이름 찾기\n",
    "\n",
    "def find_same_name(a):\n",
    "    n = len(a)   # 리스트의 자료 개수를 n에 저장\n",
    "    result = set()  # 결과를 저장할 빈 집합\n",
    "    for i in range(0, n - 1):      # 0부터 n-2까지 반복\n",
    "        for j in range(i + 1, n):  # i+1부터 n-1까지 반복\n",
    "            if a[i] == a[j]:       # 이름이 같으면\n",
    "                result.add(a[i])   # 찾은 이름을 result에 추가\n",
    "    return result\n",
    "\n",
    "name = [\"Tom\", \"Jerry\", \"Mike\", \"Tom\"]\n",
    "print(find_same_name(name))\n",
    "\n",
    "name2 = [\"Tom\", \"Jerry\", \"Mike\", \"Tom\", \"Mike\"]\n",
    "print(find_same_name(name2))\n"
   ]
  },
  {
   "cell_type": "code",
   "execution_count": 2,
   "metadata": {},
   "outputs": [
    {
     "name": "stdout",
     "output_type": "stream",
     "text": [
      "{'Tom'}\n",
      "{'Tom', 'Mike'}\n"
     ]
    }
   ],
   "source": [
    "# 두 번 이상 나온 이름 찾기\n",
    "\n",
    "def find_same_name(a):\n",
    "    # 1: 각 이름의 등장 횟수를 딕셔너리로 만듦\n",
    "    name_dict = {}\n",
    "    for name in a:\n",
    "        if name in name_dict:     # 이름이 name_dict에 있으면\n",
    "            name_dict[name] += 1  # 등장 횟수를 1 증가\n",
    "        else:                     # 새 이름이면\n",
    "            name_dict[name] = 1   # 등장 횟수를 1로 저장\n",
    "\n",
    "    # 2: 만들어진 딕셔너리에서 등장 횟수가 2 이상인 것을 결과에 추가\n",
    "    result = set()  # 결괏값을 저장할 빈 집합\n",
    "    for name in name_dict:  # 딕셔너리 name_dict에 있는 자료들을 차례로 반복\n",
    "        if name_dict[name] >= 2:\n",
    "            result.add(name)\n",
    "\n",
    "    return result\n",
    "\n",
    "name = [\"Tom\", \"Jerry\", \"Mike\", \"Tom\"]\n",
    "print(find_same_name(name))\n",
    "\n",
    "name2 = [\"Tom\", \"Jerry\", \"Mike\", \"Tom\", \"Mike\"]\n",
    "print(find_same_name(name2))"
   ]
  },
  {
   "cell_type": "markdown",
   "metadata": {},
   "source": [
    "* 첫 번쨰는 사람 수가 n일 때 계산 복잡도는 O($n^2$)이고, 두 번째 딕셔너리 방법은 딕셔너리에 넣는 동작(n번 처리) 후, 딕셔너리 안에 저장된 이름이 2 이상인지 확인하는 작업(n번 이하 처리)를 하므로 O(n)에 해당한다.\n",
    "* 주로 for 반복문이 겹치면 계산 복잡도는 증가한다.\n",
    "* 딕셔너리 방법은 시간 복잡도면에서 리스트 방법보다 우수하나, 딕셔너리를 생성하여 이름과 등장횟수를 저장해야 하므로 공간 복잡도가 더 높다. 하지만 현대 컴퓨터는 대체로 저장 공간이 매우 크기에 상대적으로 공간 복잡도에 덜 민감하다."
   ]
  },
  {
   "cell_type": "markdown",
   "metadata": {},
   "source": [
    "### 연습문제 14-1\n",
    "다음과 같이 학생 번호와 이름이 주어졌을 때, 번호를 입력하면 이름을, 이름이 없다면 물음표를 도려주는 문제를 딕셔너리를 이용해서 풀어라."
   ]
  },
  {
   "cell_type": "code",
   "execution_count": 6,
   "metadata": {},
   "outputs": [
    {
     "name": "stdout",
     "output_type": "stream",
     "text": [
      "Justin\n",
      "John\n",
      "Mike\n",
      "Summer\n",
      "?\n"
     ]
    }
   ],
   "source": [
    "def finder(n):\n",
    "    students = {\n",
    "        39: 'Justin',\n",
    "        14: 'John',\n",
    "        67: 'Mike',\n",
    "        105: 'Summer'\n",
    "    }\n",
    "    if n in students:\n",
    "        return students[n]\n",
    "    return '?'\n",
    "\n",
    "print(finder(39))\n",
    "print(finder(14))\n",
    "print(finder(67))\n",
    "print(finder(105))\n",
    "print(finder(1))"
   ]
  },
  {
   "cell_type": "markdown",
   "metadata": {},
   "source": [
    "### 해시 테이블\n",
    "* 파이썬의 딕셔너리처럼 Key와 Value를 대응시켜 자료를 보관하는 구조를 해시 테이블(hash table)이라고 한다.\n",
    "* C++에선 Unordered_map, Java에선 hashmap, C#에선 dictionary라고 부른다."
   ]
  }
 ],
 "metadata": {
  "kernelspec": {
   "display_name": "Python 3.7.7 64-bit",
   "language": "python",
   "name": "python3"
  },
  "language_info": {
   "codemirror_mode": {
    "name": "ipython",
    "version": 3
   },
   "file_extension": ".py",
   "mimetype": "text/x-python",
   "name": "python",
   "nbconvert_exporter": "python",
   "pygments_lexer": "ipython3",
   "version": "3.7.7"
  },
  "orig_nbformat": 4,
  "vscode": {
   "interpreter": {
    "hash": "d49c3f6d6dd49f9272b571d9fad348ab55b8c6c3f691520d74ed0af1f69c3dd8"
   }
  }
 },
 "nbformat": 4,
 "nbformat_minor": 2
}
